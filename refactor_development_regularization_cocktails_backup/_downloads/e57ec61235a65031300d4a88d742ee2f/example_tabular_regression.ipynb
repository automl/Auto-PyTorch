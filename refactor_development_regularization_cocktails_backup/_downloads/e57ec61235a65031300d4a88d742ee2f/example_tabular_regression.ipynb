{
  "cells": [
    {
      "cell_type": "code",
      "execution_count": null,
      "metadata": {
        "collapsed": false
      },
      "outputs": [],
      "source": [
        "%matplotlib inline"
      ]
    },
    {
      "cell_type": "markdown",
      "metadata": {},
      "source": [
        "\n# Tabular Regression\n\nThe following example shows how to fit a sample regression model\nwith AutoPyTorch\n"
      ]
    },
    {
      "cell_type": "code",
      "execution_count": null,
      "metadata": {
        "collapsed": false
      },
      "outputs": [],
      "source": [
        "import os\nimport tempfile as tmp\nimport warnings\n\nimport sklearn.datasets\nimport sklearn.model_selection\n\nos.environ['JOBLIB_TEMP_FOLDER'] = tmp.gettempdir()\nos.environ['OMP_NUM_THREADS'] = '1'\nos.environ['OPENBLAS_NUM_THREADS'] = '1'\nos.environ['MKL_NUM_THREADS'] = '1'\n\nwarnings.simplefilter(action='ignore', category=UserWarning)\nwarnings.simplefilter(action='ignore', category=FutureWarning)\n\nfrom autoPyTorch.api.tabular_regression import TabularRegressionTask\n\n\nif __name__ == '__main__':\n\n    ############################################################################\n    # Data Loading\n    # ============\n    X, y = sklearn.datasets.fetch_openml(name='boston', return_X_y=True, as_frame=True)\n    X_train, X_test, y_train, y_test = sklearn.model_selection.train_test_split(\n        X,\n        y,\n        random_state=1,\n    )\n\n    # Scale the regression targets to have zero mean and unit variance.\n    # This is important for Neural Networks since predicting large target values would require very large weights.\n    # One can later rescale the network predictions like this: y_pred = y_pred_scaled * y_train_std + y_train_mean\n    y_train_mean = y_train.mean()\n    y_train_std = y_train.std()\n\n    y_train_scaled = (y_train - y_train_mean) / y_train_std\n    y_test_scaled = (y_test - y_train_mean) / y_train_std\n\n    ############################################################################\n    # Build and fit a regressor\n    # ==========================\n    api = TabularRegressionTask(\n        temporary_directory='./tmp/autoPyTorch_example_tmp_02',\n        output_directory='./tmp/autoPyTorch_example_out_02',\n        # To maintain logs of the run, set the next two as False\n        delete_tmp_folder_after_terminate=True,\n        delete_output_folder_after_terminate=True\n    )\n\n    ############################################################################\n    # Search for an ensemble of machine learning algorithms\n    # =====================================================\n    api.search(\n        X_train=X_train,\n        y_train=y_train_scaled,\n        X_test=X_test.copy(),\n        y_test=y_test_scaled.copy(),\n        optimize_metric='r2',\n        total_walltime_limit=300,\n        func_eval_time_limit_secs=50,\n        enable_traditional_pipeline=False,\n    )\n\n    ############################################################################\n    # Print the final ensemble performance\n    # ====================================\n    print(api.run_history, api.trajectory)\n    y_pred_scaled = api.predict(X_test)\n\n    # Rescale the Neural Network predictions into the original target range\n    y_pred = y_pred_scaled * y_train_std + y_train_mean\n    score = api.score(y_pred, y_test)\n\n    print(score)\n    # Print the final ensemble built by AutoPyTorch\n    print(api.show_models())"
      ]
    }
  ],
  "metadata": {
    "kernelspec": {
      "display_name": "Python 3",
      "language": "python",
      "name": "python3"
    },
    "language_info": {
      "codemirror_mode": {
        "name": "ipython",
        "version": 3
      },
      "file_extension": ".py",
      "mimetype": "text/x-python",
      "name": "python",
      "nbconvert_exporter": "python",
      "pygments_lexer": "ipython3",
      "version": "3.8.12"
    }
  },
  "nbformat": 4,
  "nbformat_minor": 0
}