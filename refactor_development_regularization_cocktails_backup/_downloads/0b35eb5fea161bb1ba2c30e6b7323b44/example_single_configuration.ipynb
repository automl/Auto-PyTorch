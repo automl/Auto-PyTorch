{
  "cells": [
    {
      "cell_type": "code",
      "execution_count": null,
      "metadata": {
        "collapsed": false
      },
      "outputs": [],
      "source": [
        "%matplotlib inline"
      ]
    },
    {
      "cell_type": "markdown",
      "metadata": {},
      "source": [
        "\n# Fit a single configuration\n*Auto-PyTorch* searches for the best combination of machine learning algorithms\nand their hyper-parameter configuration for a given task.\n\nThis example shows how one can fit one of these pipelines, both, with a user defined\nconfiguration, and a randomly sampled one form the configuration space.\nThe pipelines that Auto-PyTorch fits are compatible with Scikit-Learn API. You can\nget further documentation about Scikit-Learn models here: <https://scikit-learn.org/stable/getting_started.html`>_\n"
      ]
    },
    {
      "cell_type": "code",
      "execution_count": null,
      "metadata": {
        "collapsed": false
      },
      "outputs": [],
      "source": [
        "import os\nimport tempfile as tmp\nimport warnings\n\nos.environ['JOBLIB_TEMP_FOLDER'] = tmp.gettempdir()\nos.environ['OMP_NUM_THREADS'] = '1'\nos.environ['OPENBLAS_NUM_THREADS'] = '1'\nos.environ['MKL_NUM_THREADS'] = '1'\n\nwarnings.simplefilter(action='ignore', category=UserWarning)\nwarnings.simplefilter(action='ignore', category=FutureWarning)\n\nimport sklearn.datasets\nimport sklearn.metrics\n\nfrom autoPyTorch.api.tabular_classification import TabularClassificationTask\nfrom autoPyTorch.datasets.resampling_strategy import HoldoutValTypes\n\n\nif __name__ == '__main__':\n    ############################################################################\n    # Data Loading\n    # ============\n\n    X, y = sklearn.datasets.fetch_openml('iris', return_X_y=True, as_frame=True)\n    X_train, X_test, y_train, y_test = sklearn.model_selection.train_test_split(\n        X, y, test_size=0.8, random_state=3\n    )\n\n    ############################################################################\n    # Define an estimator\n    # ============================\n\n    # Search for a good configuration\n    estimator = TabularClassificationTask(\n        resampling_strategy=HoldoutValTypes.holdout_validation,\n        resampling_strategy_args={'val_share': 0.33}\n    )\n\n    ############################################################################\n    # Get a random configuration of the pipeline for current dataset\n    # ===============================================================\n\n    dataset = estimator.get_dataset(X_train=X_train,\n                                    y_train=y_train,\n                                    X_test=X_test,\n                                    y_test=y_test)\n    configuration = estimator.get_search_space(dataset).get_default_configuration()\n\n    ###########################################################################\n    # Fit the configuration\n    # ==================================\n\n    pipeline, run_info, run_value, dataset = estimator.fit_pipeline(\n        X_train=X_train,\n        y_train=y_train,\n        dataset_name='kr-vs-kp',\n        run_time_limit_secs=100,\n        X_test=X_test,\n        y_test=y_test,\n        disable_file_output=False,\n        configuration=configuration,\n    )\n\n    # This object complies with Scikit-Learn Pipeline API.\n    # https://scikit-learn.org/stable/modules/generated/sklearn.pipeline.Pipeline.html\n    print(pipeline.named_steps)\n\n    # The fit_pipeline command also returns a named tuple with the pipeline constraints\n    print(run_info)\n\n    # The fit_pipeline command also returns a named tuple with train/test performance\n    print(run_value)\n\n    print(\"Passed Configuration:\", pipeline.config)\n    print(\"Network:\", pipeline.named_steps['network'].network)"
      ]
    }
  ],
  "metadata": {
    "kernelspec": {
      "display_name": "Python 3",
      "language": "python",
      "name": "python3"
    },
    "language_info": {
      "codemirror_mode": {
        "name": "ipython",
        "version": 3
      },
      "file_extension": ".py",
      "mimetype": "text/x-python",
      "name": "python",
      "nbconvert_exporter": "python",
      "pygments_lexer": "ipython3",
      "version": "3.8.12"
    }
  },
  "nbformat": 4,
  "nbformat_minor": 0
}