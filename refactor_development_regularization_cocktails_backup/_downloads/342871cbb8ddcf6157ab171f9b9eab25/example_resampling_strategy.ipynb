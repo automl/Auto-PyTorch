{
  "cells": [
    {
      "cell_type": "code",
      "execution_count": null,
      "metadata": {
        "collapsed": false
      },
      "outputs": [],
      "source": [
        "%matplotlib inline"
      ]
    },
    {
      "cell_type": "markdown",
      "metadata": {},
      "source": [
        "\n# Tabular Classification with different resampling strategy\n\nThe following example shows how to fit a sample classification model\nwith different resampling strategies in AutoPyTorch\nBy default, AutoPyTorch uses Holdout Validation with\na 67% train size split.\n"
      ]
    },
    {
      "cell_type": "code",
      "execution_count": null,
      "metadata": {
        "collapsed": false
      },
      "outputs": [],
      "source": [
        "import os\nimport tempfile as tmp\nimport warnings\n\nos.environ['JOBLIB_TEMP_FOLDER'] = tmp.gettempdir()\nos.environ['OMP_NUM_THREADS'] = '1'\nos.environ['OPENBLAS_NUM_THREADS'] = '1'\nos.environ['MKL_NUM_THREADS'] = '1'\n\nwarnings.simplefilter(action='ignore', category=UserWarning)\nwarnings.simplefilter(action='ignore', category=FutureWarning)\n\nimport sklearn.datasets\nimport sklearn.model_selection\n\nfrom autoPyTorch.api.tabular_classification import TabularClassificationTask\nfrom autoPyTorch.datasets.resampling_strategy import CrossValTypes, HoldoutValTypes\n\n\nif __name__ == '__main__':\n\n    ############################################################################\n    # Data Loading\n    # ============\n    X, y = sklearn.datasets.fetch_openml(data_id=40981, return_X_y=True, as_frame=True)\n    X_train, X_test, y_train, y_test = sklearn.model_selection.train_test_split(\n        X,\n        y,\n        random_state=1,\n    )\n\n    ############################################################################\n    # Build and fit a classifier with default resampling strategy\n    # ===========================================================\n    api = TabularClassificationTask(\n        temporary_directory='./tmp/autoPyTorch_example_tmp_03',\n        output_directory='./tmp/autoPyTorch_example_out_03',\n        # To maintain logs of the run, set the next two as False\n        delete_tmp_folder_after_terminate=True,\n        delete_output_folder_after_terminate=True,\n        # 'HoldoutValTypes.holdout_validation' with 'val_share': 0.33\n        # is the default argument setting for TabularClassificationTask.\n        # It is explicitly specified in this example for demonstrational\n        # purpose.\n        resampling_strategy=HoldoutValTypes.holdout_validation,\n        resampling_strategy_args={'val_share': 0.33}\n    )\n\n    ############################################################################\n    # Search for an ensemble of machine learning algorithms\n    # =====================================================\n    api.search(\n        X_train=X_train,\n        y_train=y_train,\n        X_test=X_test.copy(),\n        y_test=y_test.copy(),\n        optimize_metric='accuracy',\n        total_walltime_limit=150,\n        func_eval_time_limit_secs=30\n    )\n\n    ############################################################################\n    # Print the final ensemble performance\n    # ====================================\n    print(api.run_history, api.trajectory)\n    y_pred = api.predict(X_test)\n    score = api.score(y_pred, y_test)\n    print(score)\n    # Print the final ensemble built by AutoPyTorch\n    print(api.show_models())\n\n    ############################################################################\n\n    ############################################################################\n    # Build and fit a classifier with Cross validation resampling strategy\n    # ====================================================================\n    api = TabularClassificationTask(\n        temporary_directory='./tmp/autoPyTorch_example_tmp_04',\n        output_directory='./tmp/autoPyTorch_example_out_04',\n        # To maintain logs of the run, set the next two as False\n        delete_tmp_folder_after_terminate=True,\n        delete_output_folder_after_terminate=True,\n        resampling_strategy=CrossValTypes.k_fold_cross_validation,\n        resampling_strategy_args={'num_splits': 3}\n    )\n\n    ############################################################################\n    # Search for an ensemble of machine learning algorithms\n    # =====================================================\n    api.search(\n        X_train=X_train,\n        y_train=y_train,\n        X_test=X_test.copy(),\n        y_test=y_test.copy(),\n        optimize_metric='accuracy',\n        total_walltime_limit=150,\n        func_eval_time_limit_secs=30\n    )\n\n    ############################################################################\n    # Print the final ensemble performance\n    # ====================================\n    print(api.run_history, api.trajectory)\n    y_pred = api.predict(X_test)\n    score = api.score(y_pred, y_test)\n    print(score)\n    # Print the final ensemble built by AutoPyTorch\n    print(api.show_models())\n\n    ############################################################################\n\n    ############################################################################\n    # Build and fit a classifier with Stratified resampling strategy\n    # ==============================================================\n    api = TabularClassificationTask(\n        temporary_directory='./tmp/autoPyTorch_example_tmp_05',\n        output_directory='./tmp/autoPyTorch_example_out_05',\n        # To maintain logs of the run, set the next two as False\n        delete_tmp_folder_after_terminate=True,\n        delete_output_folder_after_terminate=True,\n        # For demonstration purposes, we use\n        # Stratified hold out validation. However,\n        # one can also use CrossValTypes.stratified_k_fold_cross_validation.\n        resampling_strategy=HoldoutValTypes.stratified_holdout_validation,\n        resampling_strategy_args={'val_share': 0.33}\n    )\n\n    ############################################################################\n    # Search for an ensemble of machine learning algorithms\n    # =====================================================\n    api.search(\n        X_train=X_train,\n        y_train=y_train,\n        X_test=X_test.copy(),\n        y_test=y_test.copy(),\n        optimize_metric='accuracy',\n        total_walltime_limit=150,\n        func_eval_time_limit_secs=30\n    )\n\n    ############################################################################\n    # Print the final ensemble performance\n    # ====================================\n    print(api.run_history, api.trajectory)\n    y_pred = api.predict(X_test)\n    score = api.score(y_pred, y_test)\n    print(score)\n    # Print the final ensemble built by AutoPyTorch\n    print(api.show_models())"
      ]
    }
  ],
  "metadata": {
    "kernelspec": {
      "display_name": "Python 3",
      "language": "python",
      "name": "python3"
    },
    "language_info": {
      "codemirror_mode": {
        "name": "ipython",
        "version": 3
      },
      "file_extension": ".py",
      "mimetype": "text/x-python",
      "name": "python",
      "nbconvert_exporter": "python",
      "pygments_lexer": "ipython3",
      "version": "3.8.12"
    }
  },
  "nbformat": 4,
  "nbformat_minor": 0
}