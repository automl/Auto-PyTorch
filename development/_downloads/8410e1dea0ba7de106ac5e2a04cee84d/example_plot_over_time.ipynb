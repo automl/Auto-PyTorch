{
  "cells": [
    {
      "cell_type": "code",
      "execution_count": null,
      "metadata": {
        "collapsed": false
      },
      "outputs": [],
      "source": [
        "%matplotlib inline"
      ]
    },
    {
      "cell_type": "markdown",
      "metadata": {},
      "source": [
        "\n# Plot the Performance over Time\n\nAuto-Pytorch uses SMAC to fit individual machine learning algorithms\nand then ensembles them together using `Ensemble Selection\n<https://www.cs.cornell.edu/~caruana/ctp/ct.papers/caruana.icml04.icdm06long.pdf>`_.\n\nThe following examples shows how to plot both the performance\nof the individual models and their respective ensemble.\n\nAdditionally, as we are compatible with matplotlib,\nyou can input any args or kwargs that are compatible with ax.plot.\nIn the case when you would like to create multipanel visualization,\nplease input plt.Axes obtained from matplotlib.pyplot.subplots.\n"
      ]
    },
    {
      "cell_type": "code",
      "execution_count": null,
      "metadata": {
        "collapsed": false
      },
      "outputs": [],
      "source": [
        "import warnings\n\nimport numpy as np\nimport pandas as pd\n\nfrom sklearn import model_selection\n\nimport matplotlib.pyplot as plt\n\nfrom autoPyTorch.api.tabular_classification import TabularClassificationTask\nfrom autoPyTorch.utils.results_visualizer import PlotSettingParams\n\n\nwarnings.simplefilter(action='ignore', category=UserWarning)\nwarnings.simplefilter(action='ignore', category=FutureWarning)"
      ]
    },
    {
      "cell_type": "markdown",
      "metadata": {},
      "source": [
        "## Task Definition\n\n"
      ]
    },
    {
      "cell_type": "code",
      "execution_count": null,
      "metadata": {
        "collapsed": false
      },
      "outputs": [],
      "source": [
        "n_samples, dim = 100, 2\nX = np.random.random((n_samples, dim)) * 2 - 1\ny = ((X ** 2).sum(axis=-1) < 2 / np.pi).astype(np.int32)\nprint(y)\n\nX, y = pd.DataFrame(X), pd.DataFrame(y)\nX_train, X_test, y_train, y_test = model_selection.train_test_split(X, y)"
      ]
    },
    {
      "cell_type": "markdown",
      "metadata": {},
      "source": [
        "## API Instantiation and Searching\n\n"
      ]
    },
    {
      "cell_type": "code",
      "execution_count": null,
      "metadata": {
        "collapsed": false
      },
      "outputs": [],
      "source": [
        "api = TabularClassificationTask(seed=42)\n\napi.search(X_train=X_train, y_train=y_train, X_test=X_test, y_test=y_test,\n           optimize_metric='accuracy', total_walltime_limit=120, func_eval_time_limit_secs=10)"
      ]
    },
    {
      "cell_type": "markdown",
      "metadata": {},
      "source": [
        "## Create Setting Parameters Object\n\n"
      ]
    },
    {
      "cell_type": "code",
      "execution_count": null,
      "metadata": {
        "collapsed": false
      },
      "outputs": [],
      "source": [
        "metric_name = 'accuracy'\n\nparams = PlotSettingParams(\n    xscale='log',\n    xlabel='Runtime',\n    ylabel='Accuracy',\n    title='Toy Example',\n    show=False  # If you would like to show, make it True\n)"
      ]
    },
    {
      "cell_type": "markdown",
      "metadata": {},
      "source": [
        "## Plot with the Specified Setting Parameters\n\n"
      ]
    },
    {
      "cell_type": "code",
      "execution_count": null,
      "metadata": {
        "collapsed": false
      },
      "outputs": [],
      "source": [
        "_, ax = plt.subplots()\n\napi.plot_perf_over_time(\n    ax=ax,  # You do not have to provide.\n    metric_name=metric_name,\n    plot_setting_params=params,\n    marker='*',\n    markersize=10\n)\n\n# plt.show() might cause issue depending on environments\nplt.savefig('example_plot_over_time.png')"
      ]
    }
  ],
  "metadata": {
    "kernelspec": {
      "display_name": "Python 3",
      "language": "python",
      "name": "python3"
    },
    "language_info": {
      "codemirror_mode": {
        "name": "ipython",
        "version": 3
      },
      "file_extension": ".py",
      "mimetype": "text/x-python",
      "name": "python",
      "nbconvert_exporter": "python",
      "pygments_lexer": "ipython3",
      "version": "3.8.12"
    }
  },
  "nbformat": 4,
  "nbformat_minor": 0
}