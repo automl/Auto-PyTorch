{
 "cells": [
  {
   "cell_type": "markdown",
   "metadata": {},
   "source": [
    "# Introduction\n",
    "\n",
    "This tutorial introduces the basic Auto-PyTorch API together with the classes for featurized and image data.\n",
    "So far, Auto-PyTorch covers classification and regression on featurized data as well as classification on image data.\n",
    "For installing Auto-PyTorch, please refer to the github page.\n",
    "\n",
    "**Note**: In this notebook data will be downloaded from the openml project for featurized tasks and CIFAR10 will be downloaded for image classification. Hence, an internet connection is required."
   ]
  },
  {
   "cell_type": "markdown",
   "metadata": {},
   "source": [
    "# API\n",
    "\n",
    "There are classes for featurized tasks (classification, multi-label classification, regression) and image tasks (classification). You can import them via:"
   ]
  },
  {
   "cell_type": "code",
   "execution_count": 1,
   "metadata": {},
   "outputs": [],
   "source": [
    "from autoPyTorch import (AutoNetClassification,\n",
    "                         AutoNetMultilabel,\n",
    "                         AutoNetRegression,\n",
    "                         AutoNetImageClassification,\n",
    "                         AutoNetImageClassificationMultipleDatasets)"
   ]
  },
  {
   "cell_type": "code",
   "execution_count": 2,
   "metadata": {},
   "outputs": [],
   "source": [
    "import numpy as np\n",
    "import openml\n",
    "import json"
   ]
  },
  {
   "cell_type": "markdown",
   "metadata": {},
   "source": [
    "Upon initialization of a class, you can specify its configuration. Later, you can override its configuration in each fit call. The *config_preset* allows to constrain the search space to one of *tiny_cs, medium_cs* or *full_cs*. These presets can be seen in *core/presets/*."
   ]
  },
  {
   "cell_type": "code",
   "execution_count": 3,
   "metadata": {},
   "outputs": [],
   "source": [
    "autonet = AutoNetClassification(config_preset=\"full_cs\", result_logger_dir=\"logs/\")"
   ]
  },
  {
   "cell_type": "markdown",
   "metadata": {},
   "source": [
    "Here are some useful methods provided by the API:"
   ]
  },
  {
   "cell_type": "code",
   "execution_count": 4,
   "metadata": {},
   "outputs": [
    {
     "name": "stdout",
     "output_type": "stream",
     "text": [
      "Configure AutoNet with the following keyword arguments.\n",
      "Pass these arguments to either the constructor or fit().\n",
      "\n",
      "name                                default                  choices                                  type                                     \n",
      "===============================================================================================================================================\n",
      "additional_logs                     []                       []                                       <class 'str'>                            \n",
      "-----------------------------------------------------------------------------------------------------------------------------------------------\n",
      "additional_metrics                  []                       [accuracy,                               <class 'str'>                            \n",
      "                                                              auc_metric,                                                                      \n",
      "                                                              pac_metric,                                                                      \n",
      "                                                              balanced_accuracy]                                                               \n",
      "-----------------------------------------------------------------------------------------------------------------------------------------------\n",
      "algorithm                           bohb                     [bohb,                                   <class 'str'>                            \n",
      "                                                              hyperband]                                                                       \n",
      "-----------------------------------------------------------------------------------------------------------------------------------------------\n",
      "batch_loss_computation_techniques   [standard,               [standard,                               <class 'str'>                            \n",
      "                                     mixup]                   mixup]                                                                           \n",
      "-----------------------------------------------------------------------------------------------------------------------------------------------\n",
      "best_over_epochs                    False                    [True,                                   <function to_bool at 0x7f1198dff400>     \n",
      "                                                              False]                                                                           \n",
      "\tinfo: Whether to report the best performance occurred to BOHB\n",
      "-----------------------------------------------------------------------------------------------------------------------------------------------\n",
      "budget_type                         time                     [time,                                   <class 'str'>                            \n",
      "                                                              epochs,                                                                          \n",
      "                                                              training_time]                                                                   \n",
      "-----------------------------------------------------------------------------------------------------------------------------------------------\n",
      "categorical_features                None                     None                                     <function to_bool at 0x7f1198dff400>     \n",
      "\tinfo: List of booleans that specifies for each feature whether it is categorical.\n",
      "-----------------------------------------------------------------------------------------------------------------------------------------------\n",
      "cross_validator                     none                     dict_keys(['none', 'k_fold', 'stratified <class 'str'>                            \n",
      "\tinfo: Class inheriting from sklearn.model_selection.BaseCrossValidator. Ignored if validation data is given.\n",
      "-----------------------------------------------------------------------------------------------------------------------------------------------\n",
      "cross_validator_args                {}                       None                                     <function to_dict at 0x7f1198dff7b8>     \n",
      "\tinfo: Args of cross validator. \n",
      "\t\tNote that random_state and shuffle are set by pipeline config options random_seed and shuffle, if not specified here.\n",
      "-----------------------------------------------------------------------------------------------------------------------------------------------\n",
      "cuda                                True                     [True,                                   <function to_bool at 0x7f1198dff400>     \n",
      "                                                              False]                                                                           \n",
      "-----------------------------------------------------------------------------------------------------------------------------------------------\n",
      "dataset_name                        None                     None                                     <class 'str'>                            \n",
      "-----------------------------------------------------------------------------------------------------------------------------------------------\n",
      "early_stopping_patience             inf                      None                                     <class 'float'>                          \n",
      "-----------------------------------------------------------------------------------------------------------------------------------------------\n",
      "early_stopping_reset_parameters     False                    None                                     <function to_bool at 0x7f1198dff400>     \n",
      "-----------------------------------------------------------------------------------------------------------------------------------------------\n",
      "embeddings                          [none,                   [none,                                   <class 'str'>                            \n",
      "                                     learned]                 learned]                                                                         \n",
      "-----------------------------------------------------------------------------------------------------------------------------------------------\n",
      "eta                                 3                        None                                     <class 'float'>                          \n",
      "\tinfo: eta parameter of Hyperband.\n",
      "-----------------------------------------------------------------------------------------------------------------------------------------------\n",
      "final_activation                    softmax                  [softmax]                                <class 'str'>                            \n",
      "-----------------------------------------------------------------------------------------------------------------------------------------------\n",
      "full_eval_each_epoch                False                    [True,                                   <function to_bool at 0x7f1198dff400>     \n",
      "                                                              False]                                                                           \n",
      "\tinfo: Whether to evaluate everything every epoch. Results in more useful output\n",
      "-----------------------------------------------------------------------------------------------------------------------------------------------\n",
      "hyperparameter_search_space_updates None                     None                                     [directory,                              \n",
      "                                                                                                       <function parse_hyperparameter_search_] \n",
      "\tinfo: object of type HyperparameterSearchSpaceUpdates\n",
      "-----------------------------------------------------------------------------------------------------------------------------------------------\n",
      "imputation_strategies               [mean,                   [mean,                                   <class 'str'>                            \n",
      "                                     median,                  median,                                                                          \n",
      "                                     most_frequent]           most_frequent]                                                                   \n",
      "-----------------------------------------------------------------------------------------------------------------------------------------------\n",
      "initialization_methods              [default,                [default,                                <class 'str'>                            \n",
      "                                     sparse]                  sparse]                                                                          \n",
      "-----------------------------------------------------------------------------------------------------------------------------------------------\n",
      "initializer                         simple_initializer       [simple_initializer]                     <class 'str'>                            \n",
      "-----------------------------------------------------------------------------------------------------------------------------------------------\n",
      "log_level                           warning                  [debug,                                  <class 'str'>                            \n",
      "                                                              info,                                                                            \n",
      "                                                              warning,                                                                         \n",
      "                                                              error,                                                                           \n",
      "                                                              critical]                                                                        \n",
      "-----------------------------------------------------------------------------------------------------------------------------------------------\n",
      "loss_modules                        [cross_entropy,          [cross_entropy,                          <class 'str'>                            \n",
      "                                     cross_entropy_weighted]  cross_entropy_weighted]                                                          \n",
      "-----------------------------------------------------------------------------------------------------------------------------------------------\n",
      "lr_scheduler                        [cosine_annealing,       [cosine_annealing,                       <class 'str'>                            \n",
      "                                     cyclic,                  cyclic,                                                                          \n",
      "                                     exponential,             exponential,                                                                     \n",
      "                                     step,                    step,                                                                            \n",
      "                                     adapt,                   adapt,                                                                           \n",
      "                                     plateau,                 plateau,                                                                         \n",
      "                                     alternating_cosine,      alternating_cosine,                                                              \n",
      "                                     none]                    none]                                                                            \n",
      "-----------------------------------------------------------------------------------------------------------------------------------------------\n",
      "max_budget                          6000                     None                                     <class 'float'>                          \n",
      "-----------------------------------------------------------------------------------------------------------------------------------------------\n",
      "max_runtime                         24000                    None                                     <class 'float'>                          \n",
      "-----------------------------------------------------------------------------------------------------------------------------------------------\n",
      "memory_limit_mb                     1000000                  None                                     <class 'int'>                            \n",
      "-----------------------------------------------------------------------------------------------------------------------------------------------\n",
      "min_budget                          120                      None                                     <class 'float'>                          \n",
      "-----------------------------------------------------------------------------------------------------------------------------------------------\n",
      "min_budget_for_cv                   0                        None                                     <class 'float'>                          \n",
      "\tinfo: Specify minimum budget for cv. If budget is smaller use specified validation split.\n",
      "-----------------------------------------------------------------------------------------------------------------------------------------------\n",
      "min_workers                         1                        None                                     <class 'int'>                            \n",
      "-----------------------------------------------------------------------------------------------------------------------------------------------\n",
      "network_interface_name              eth0                     None                                     <class 'str'>                            \n",
      "-----------------------------------------------------------------------------------------------------------------------------------------------\n",
      "networks                            [mlpnet,                 [mlpnet,                                 <class 'str'>                            \n",
      "                                     shapedmlpnet,            shapedmlpnet,                                                                    \n",
      "                                     resnet,                  resnet,                                                                          \n",
      "                                     shapedresnet]            shapedresnet]                                                                    \n",
      "-----------------------------------------------------------------------------------------------------------------------------------------------\n",
      "normalization_strategies            [none,                   [none,                                   <class 'str'>                            \n",
      "                                     minmax,                  minmax,                                                                          \n",
      "                                     standardize,             standardize,                                                                     \n",
      "                                     maxabs]                  maxabs]                                                                          \n",
      "-----------------------------------------------------------------------------------------------------------------------------------------------\n",
      "num_iterations                      inf                      None                                     <class 'float'>                          \n",
      "-----------------------------------------------------------------------------------------------------------------------------------------------\n",
      "optimize_metric                     accuracy                 [accuracy,                               <class 'str'>                            \n",
      "                                                              auc_metric,                                                                      \n",
      "                                                              pac_metric,                                                                      \n",
      "                                                              balanced_accuracy]                                                               \n",
      "\tinfo: This is the meta train metric BOHB will try to optimize.\n",
      "-----------------------------------------------------------------------------------------------------------------------------------------------\n",
      "optimizer                           [adam,                   [adam,                                   <class 'str'>                            \n",
      "                                     adamw,                   adamw,                                                                           \n",
      "                                     sgd,                     sgd,                                                                             \n",
      "                                     rmsprop]                 rmsprop]                                                                         \n",
      "-----------------------------------------------------------------------------------------------------------------------------------------------\n",
      "over_sampling_methods               [none,                   [none,                                   <class 'str'>                            \n",
      "                                     random,                  random,                                                                          \n",
      "                                     smote]                   smote]                                                                           \n",
      "-----------------------------------------------------------------------------------------------------------------------------------------------\n",
      "preprocessors                       [none,                   [none,                                   <class 'str'>                            \n",
      "                                     truncated_svd,           truncated_svd,                                                                   \n",
      "                                     power_transformer,       power_transformer,                                                               \n",
      "                                     fast_ica,                fast_ica,                                                                        \n",
      "                                     kitchen_sinks,           kitchen_sinks,                                                                   \n",
      "                                     kernel_pca,              kernel_pca,                                                                      \n",
      "                                     nystroem]                nystroem]                                                                        \n",
      "-----------------------------------------------------------------------------------------------------------------------------------------------\n",
      "random_seed                         3405296868               None                                     <class 'int'>                            \n",
      "\tinfo: Make sure to specify the same seed for all workers.\n",
      "-----------------------------------------------------------------------------------------------------------------------------------------------\n",
      "refit_validation_split              0.0                      [0,                                      <class 'float'>                          \n",
      "                                                              1]                                                                               \n",
      "\tinfo: In range [0, 1). Part of train dataset used for validation in refit.\n",
      "-----------------------------------------------------------------------------------------------------------------------------------------------\n",
      "result_logger_dir                   logs/                    None                                     directory                                \n",
      "-----------------------------------------------------------------------------------------------------------------------------------------------\n",
      "run_id                              0                        None                                     <class 'str'>                            \n",
      "\tinfo: Unique id for each run.\n",
      "-----------------------------------------------------------------------------------------------------------------------------------------------\n",
      "run_worker_on_master_node           True                     None                                     <function to_bool at 0x7f1198dff400>     \n",
      "-----------------------------------------------------------------------------------------------------------------------------------------------\n",
      "shuffle                             True                     [True,                                   <function to_bool at 0x7f1198dff400>     \n",
      "                                                              False]                                                                           \n",
      "\tinfo: Shuffle train and validation set\n",
      "-----------------------------------------------------------------------------------------------------------------------------------------------\n",
      "target_size_strategies              [none,                   [none,                                   <class 'str'>                            \n",
      "                                     upsample,                upsample,                                                                        \n",
      "                                     downsample,              downsample,                                                                      \n",
      "                                     average,                 average,                                                                         \n",
      "                                     median]                  median]                                                                          \n",
      "-----------------------------------------------------------------------------------------------------------------------------------------------\n",
      "task_id                             -1                       None                                     <class 'int'>                            \n",
      "\tinfo: ID for each worker, if you run AutoNet on a cluster. Set to -1, if you run it locally. \n",
      "-----------------------------------------------------------------------------------------------------------------------------------------------\n",
      "torch_num_threads                   1                        None                                     <class 'int'>                            \n",
      "-----------------------------------------------------------------------------------------------------------------------------------------------\n",
      "under_sampling_methods              [none,                   [none,                                   <class 'str'>                            \n",
      "                                     random]                  random]                                                                          \n",
      "-----------------------------------------------------------------------------------------------------------------------------------------------\n",
      "use_pynisher                        True                     None                                     <function to_bool at 0x7f1198dff400>     \n",
      "-----------------------------------------------------------------------------------------------------------------------------------------------\n",
      "use_tensorboard_logger              False                    None                                     <function to_bool at 0x7f1198dff400>     \n",
      "-----------------------------------------------------------------------------------------------------------------------------------------------\n",
      "validation_split                    0.3                      [0,                                      <class 'float'>                          \n",
      "                                                              1]                                                                               \n",
      "\tinfo: In range [0, 1). Part of train dataset used for validation. Ignored in fit if cross validator or valid data given.\n",
      "-----------------------------------------------------------------------------------------------------------------------------------------------\n",
      "working_dir                         .                        None                                     directory                                \n",
      "-----------------------------------------------------------------------------------------------------------------------------------------------\n"
     ]
    }
   ],
   "source": [
    "# Get the current configuration as dict\n",
    "current_configuration = autonet.get_current_autonet_config()\n",
    "\n",
    "# Get the ConfigSpace object with all hyperparameters, conditions, default values and default ranges\n",
    "hyperparameter_search_space = autonet.get_hyperparameter_search_space()\n",
    "\n",
    "# Print all possible configuration options\n",
    "autonet.print_help()"
   ]
  },
  {
   "cell_type": "markdown",
   "metadata": {
    "scrolled": true
   },
   "source": [
    "The most important methods for using Auto-PyTorch are **fit**, **refit**, **score** and **predict**.\n",
    "\n",
    "**fit** is used to search for a good configuration by fitting different parameter configurations. The incumbent configuration is then returned and stored in the class:"
   ]
  },
  {
   "cell_type": "code",
   "execution_count": 5,
   "metadata": {
    "scrolled": true
   },
   "outputs": [],
   "source": [
    "import numpy as np\n",
    "import openml\n",
    "import json\n",
    "from sklearn.model_selection import train_test_split\n",
    "\n",
    "# Get data from the openml task \"Supervised Classification on credit-g (https://www.openml.org/t/31)\"\n",
    "task = openml.tasks.get_task(task_id=31)\n",
    "X, y = task.get_X_and_y()\n",
    "ind_train, ind_test = task.get_train_test_split_indices()\n",
    "X_train, Y_train = X[ind_train], y[ind_train]\n",
    "X_test, Y_test = X[ind_test], y[ind_test]"
   ]
  },
  {
   "cell_type": "markdown",
   "metadata": {},
   "source": [
    "Search for a configuration for 300 seconds and with 60-120 s time for fitting.\n",
    "Use the validation_split parameter to specify a split size. You can also pass your own validation set\n",
    "via X_val and Y_val. Use log_level=\"info\" or log_level=\"debug\" for more detailed output."
   ]
  },
  {
   "cell_type": "code",
   "execution_count": 6,
   "metadata": {
    "scrolled": true
   },
   "outputs": [
    {
     "name": "stderr",
     "output_type": "stream",
     "text": [
      "/home/zimmerl/anaconda3/lib/python3.7/site-packages/sklearn/kernel_approximation.py:561: UserWarning: n_components > n_samples. This is not possible.\n",
      "n_components was set to n_samples, which results in inefficient evaluation of the full kernel.\n",
      "  warnings.warn(\"n_components > n_samples. This is not possible.\\n\"\n",
      "/home/zimmerl/anaconda3/lib/python3.7/site-packages/numpy/core/_methods.py:121: RuntimeWarning: overflow encountered in multiply\n",
      "  x = um.multiply(x, x, out=x)\n",
      "/home/zimmerl/anaconda3/lib/python3.7/site-packages/sklearn/preprocessing/data.py:2798: RuntimeWarning: divide by zero encountered in log\n",
      "  loglike = -n_samples / 2 * np.log(x_trans.var())\n",
      "/home/zimmerl/anaconda3/lib/python3.7/site-packages/sklearn/kernel_approximation.py:561: UserWarning: n_components > n_samples. This is not possible.\n",
      "n_components was set to n_samples, which results in inefficient evaluation of the full kernel.\n",
      "  warnings.warn(\"n_components > n_samples. This is not possible.\\n\"\n"
     ]
    }
   ],
   "source": [
    "autonet = AutoNetClassification(config_preset=\"full_cs\", result_logger_dir=\"logs/\")\n",
    "results_fit = autonet.fit(X_train=X_train,\n",
    "                          Y_train=Y_train,\n",
    "                          validation_split=0.3,\n",
    "                          max_runtime=300,\n",
    "                          min_budget=60,\n",
    "                          max_budget=120)\n",
    "\n",
    "# Save json\n",
    "with open(\"logs/results_fit.json\", \"w\") as file:\n",
    "    json.dump(results_fit, file)"
   ]
  },
  {
   "cell_type": "markdown",
   "metadata": {},
   "source": [
    "**refit** allows you to fit a configuration of your choice for a defined time. You can specify a hyperparameter configuration to fit (if you do not specify a configuration the incumbent configuration from the last fit call will be used):"
   ]
  },
  {
   "cell_type": "code",
   "execution_count": 7,
   "metadata": {},
   "outputs": [
    {
     "name": "stderr",
     "output_type": "stream",
     "text": [
      "[INFO] [17:05:13:autonet] Start autonet with config:\n",
      "{'embeddings': ['none'], 'lr_scheduler': ['cosine_annealing', 'plateau'], 'networks': ['shapedresnet'], 'over_sampling_methods': ['smote'], 'preprocessors': ['none', 'truncated_svd', 'power_transformer'], 'target_size_strategies': ['none', 'upsample', 'median'], 'result_logger_dir': 'logs/', 'budget_type': 'time', 'log_level': 'info', 'use_tensorboard_logger': True, 'hyperparameter_search_space_updates': None, 'categorical_features': None, 'dataset_name': None, 'run_id': '0', 'task_id': -1, 'algorithm': 'bohb', 'eta': 3, 'min_workers': 1, 'working_dir': '.', 'network_interface_name': 'eth0', 'memory_limit_mb': 1000000, 'run_worker_on_master_node': True, 'use_pynisher': True, 'validation_split': 0.3, 'refit_validation_split': 0.0, 'cross_validator': 'none', 'cross_validator_args': {}, 'min_budget_for_cv': 0, 'shuffle': True, 'imputation_strategies': ['mean', 'median', 'most_frequent'], 'normalization_strategies': ['none', 'minmax', 'standardize', 'maxabs'], 'under_sampling_methods': ['none', 'random'], 'final_activation': 'softmax', 'initialization_methods': ['default', 'sparse'], 'initializer': 'simple_initializer', 'optimizer': ['adam', 'adamw', 'sgd', 'rmsprop'], 'additional_logs': [], 'optimize_metric': 'accuracy', 'additional_metrics': [], 'loss_modules': ['cross_entropy', 'cross_entropy_weighted'], 'batch_loss_computation_techniques': ['standard', 'mixup'], 'cuda': True, 'torch_num_threads': 1, 'full_eval_each_epoch': False, 'best_over_epochs': False, 'early_stopping_patience': inf, 'early_stopping_reset_parameters': False, 'random_seed': 3405296868, 'min_budget': 120, 'max_budget': 6000, 'max_runtime': 24000, 'num_iterations': inf, 'cv_splits': 1, 'increase_number_of_trained_datasets': False}\n",
      "[INFO] [17:05:13:autonet] Start Refitting\n",
      "[INFO] [17:05:13:autonet] [AutoNet] No validation set given and either no cross validator given or budget too low for CV. Continue by splitting 0 of training data.\n",
      "[INFO] [17:05:13:autonet] [AutoNet] CV split 0 of 1\n",
      "[INFO] [17:05:13:autonet] Reduced initial budget 119.93970322608948 to cv budget 119.93916440010071 compensate for 0.0005388259887695312\n",
      "[INFO] [17:07:03:autonet] Finished train with budget 119.93916440010071: Preprocessing took 0s, Training took 109s, Wrap up took 0s. Total time consumption in s: 109\n",
      "[INFO] [17:07:03:autonet] [AutoNet] Done with current split!\n",
      "[INFO] [17:07:03:autonet] Aggregate the results across the splits\n",
      "[INFO] [17:07:03:autonet] Process 1 additional result(s)\n",
      "[INFO] [17:07:03:autonet] Done Refitting\n"
     ]
    }
   ],
   "source": [
    "# Create an autonet, use tensorboard during fitting\n",
    "autonet_config = {\n",
    "    \"result_logger_dir\" : \"logs/\",\n",
    "    \"budget_type\" : \"time\",\n",
    "    \"log_level\" : \"info\", \n",
    "    \"use_tensorboard_logger\" : True\n",
    "    }\n",
    "autonet = AutoNetClassification(**autonet_config)\n",
    "\n",
    "# This samples a random hyperparameter configuration as an example\n",
    "hyperparameter_config = autonet.get_hyperparameter_search_space().sample_configuration().get_dictionary()\n",
    "\n",
    "# Refit with sampled hyperparameter config for 120 s. This time on the full dataset.\n",
    "results_refit = autonet.refit(X_train=X_train,\n",
    "                              Y_train=Y_train,\n",
    "                              X_valid=None,\n",
    "                              Y_valid=None,\n",
    "                              hyperparameter_config=hyperparameter_config,\n",
    "                              autonet_config=autonet.get_current_autonet_config(),\n",
    "                              budget=120)\n",
    "\n",
    "# Save json\n",
    "with open(\"logs/results_refit.json\", \"w\") as file:\n",
    "    json.dump(results_refit, file)"
   ]
  },
  {
   "cell_type": "markdown",
   "metadata": {},
   "source": [
    "**pred** returns the predictions of the incumbent model. **score** can be used to evaluate the model on a test set. "
   ]
  },
  {
   "cell_type": "code",
   "execution_count": 8,
   "metadata": {},
   "outputs": [
    {
     "name": "stdout",
     "output_type": "stream",
     "text": [
      "Model prediction: [[1.]\n",
      " [1.]\n",
      " [1.]\n",
      " [1.]\n",
      " [1.]\n",
      " [1.]\n",
      " [1.]\n",
      " [1.]\n",
      " [1.]\n",
      " [1.]]\n",
      "Accuracy score 30.0\n"
     ]
    }
   ],
   "source": [
    "# Print score of found configuration\n",
    "score = autonet.score(X_test=X_test, Y_test=Y_test)\n",
    "pred = autonet.predict(X=X_test)\n",
    "\n",
    "print(\"Model prediction:\", pred[0:10])\n",
    "print(\"Accuracy score\", score)"
   ]
  },
  {
   "cell_type": "markdown",
   "metadata": {},
   "source": [
    "Finally, you can also get the incumbent model as PyTorch Sequential model via"
   ]
  },
  {
   "cell_type": "code",
   "execution_count": null,
   "metadata": {
    "scrolled": true
   },
   "outputs": [
    {
     "name": "stdout",
     "output_type": "stream",
     "text": [
      "Sequential(\n",
      "  (0): Linear(in_features=19, out_features=27, bias=True)\n",
      "  (1): Sequential(\n",
      "    (0): ResBlock(\n",
      "      (layers): Sequential(\n",
      "        (0): BatchNorm1d(27, eps=1e-05, momentum=0.1, affine=True, track_running_stats=True)\n",
      "        (1): Sigmoid()\n",
      "        (2): Linear(in_features=27, out_features=27, bias=True)\n",
      "        (3): BatchNorm1d(27, eps=1e-05, momentum=0.1, affine=True, track_running_stats=True)\n",
      "        (4): Sigmoid()\n",
      "        (5): Linear(in_features=27, out_features=27, bias=True)\n",
      "      )\n",
      "      (shake_shake_layers): Sequential(\n",
      "        (0): BatchNorm1d(27, eps=1e-05, momentum=0.1, affine=True, track_running_stats=True)\n",
      "        (1): Sigmoid()\n",
      "        (2): Linear(in_features=27, out_features=27, bias=True)\n",
      "        (3): BatchNorm1d(27, eps=1e-05, momentum=0.1, affine=True, track_running_stats=True)\n",
      "        (4): Sigmoid()\n",
      "        (5): Linear(in_features=27, out_features=27, bias=True)\n",
      "      )\n",
      "    )\n",
      "  )\n",
      "  (2): Sequential(\n",
      "    (0): ResBlock(\n",
      "      (layers): Sequential(\n",
      "        (0): BatchNorm1d(27, eps=1e-05, momentum=0.1, affine=True, track_running_stats=True)\n",
      "        (1): Sigmoid()\n",
      "        (2): Linear(in_features=27, out_features=27, bias=True)\n",
      "        (3): BatchNorm1d(27, eps=1e-05, momentum=0.1, affine=True, track_running_stats=True)\n",
      "        (4): Sigmoid()\n",
      "        (5): Linear(in_features=27, out_features=27, bias=True)\n",
      "      )\n",
      "      (shake_shake_layers): Sequential(\n",
      "        (0): BatchNorm1d(27, eps=1e-05, momentum=0.1, affine=True, track_running_stats=True)\n",
      "        (1): Sigmoid()\n",
      "        (2): Linear(in_features=27, out_features=27, bias=True)\n",
      "        (3): BatchNorm1d(27, eps=1e-05, momentum=0.1, affine=True, track_running_stats=True)\n",
      "        (4): Sigmoid()\n",
      "        (5): Linear(in_features=27, out_features=27, bias=True)\n",
      "      )\n",
      "    )\n",
      "  )\n",
      "  (3): Sequential(\n",
      "    (0): ResBlock(\n",
      "      (layers): Sequential(\n",
      "        (0): BatchNorm1d(27, eps=1e-05, momentum=0.1, affine=True, track_running_stats=True)\n",
      "        (1): Sigmoid()\n",
      "        (2): Linear(in_features=27, out_features=27, bias=True)\n",
      "        (3): BatchNorm1d(27, eps=1e-05, momentum=0.1, affine=True, track_running_stats=True)\n",
      "        (4): Sigmoid()\n",
      "        (5): Linear(in_features=27, out_features=27, bias=True)\n",
      "      )\n",
      "      (shake_shake_layers): Sequential(\n",
      "        (0): BatchNorm1d(27, eps=1e-05, momentum=0.1, affine=True, track_running_stats=True)\n",
      "        (1): Sigmoid()\n",
      "        (2): Linear(in_features=27, out_features=27, bias=True)\n",
      "        (3): BatchNorm1d(27, eps=1e-05, momentum=0.1, affine=True, track_running_stats=True)\n",
      "        (4): Sigmoid()\n",
      "        (5): Linear(in_features=27, out_features=27, bias=True)\n",
      "      )\n",
      "    )\n",
      "  )\n",
      "  (4): Sequential(\n",
      "    (0): ResBlock(\n",
      "      (layers): Sequential(\n",
      "        (0): BatchNorm1d(27, eps=1e-05, momentum=0.1, affine=True, track_running_stats=True)\n",
      "        (1): Sigmoid()\n",
      "        (2): Linear(in_features=27, out_features=27, bias=True)\n",
      "        (3): BatchNorm1d(27, eps=1e-05, momentum=0.1, affine=True, track_running_stats=True)\n",
      "        (4): Sigmoid()\n",
      "        (5): Linear(in_features=27, out_features=27, bias=True)\n",
      "      )\n",
      "      (shake_shake_layers): Sequential(\n",
      "        (0): BatchNorm1d(27, eps=1e-05, momentum=0.1, affine=True, track_running_stats=True)\n",
      "        (1): Sigmoid()\n",
      "        (2): Linear(in_features=27, out_features=27, bias=True)\n",
      "        (3): BatchNorm1d(27, eps=1e-05, momentum=0.1, affine=True, track_running_stats=True)\n",
      "        (4): Sigmoid()\n",
      "        (5): Linear(in_features=27, out_features=27, bias=True)\n",
      "      )\n",
      "    )\n",
      "  )\n",
      "  (5): Sequential(\n",
      "    (0): ResBlock(\n",
      "      (shortcut): Linear(in_features=27, out_features=19, bias=True)\n",
      "      (start_norm): Sequential(\n",
      "        (0): BatchNorm1d(27, eps=1e-05, momentum=0.1, affine=True, track_running_stats=True)\n",
      "        (1): Sigmoid()\n",
      "      )\n",
      "      (layers): Sequential(\n",
      "        (0): Linear(in_features=27, out_features=19, bias=True)\n",
      "        (1): BatchNorm1d(19, eps=1e-05, momentum=0.1, affine=True, track_running_stats=True)\n",
      "        (2): Sigmoid()\n",
      "        (3): Linear(in_features=19, out_features=19, bias=True)\n",
      "      )\n",
      "      (shake_shake_layers): Sequential(\n",
      "        (0): Linear(in_features=27, out_features=19, bias=True)\n",
      "        (1): BatchNorm1d(19, eps=1e-05, momentum=0.1, affine=True, track_running_stats=True)\n",
      "        (2): Sigmoid()\n",
      "        (3): Linear(in_features=19, out_features=19, bias=True)\n",
      "      )\n",
      "    )\n",
      "  )\n",
      "  (6): Sequential(\n",
      "    (0): ResBlock(\n",
      "      (shortcut): Linear(in_features=19, out_features=11, bias=True)\n",
      "      (start_norm): Sequential(\n",
      "        (0): BatchNorm1d(19, eps=1e-05, momentum=0.1, affine=True, track_running_stats=True)\n",
      "        (1): Sigmoid()\n",
      "      )\n",
      "      (layers): Sequential(\n",
      "        (0): Linear(in_features=19, out_features=11, bias=True)\n",
      "        (1): BatchNorm1d(11, eps=1e-05, momentum=0.1, affine=True, track_running_stats=True)\n",
      "        (2): Sigmoid()\n",
      "        (3): Linear(in_features=11, out_features=11, bias=True)\n",
      "      )\n",
      "      (shake_shake_layers): Sequential(\n",
      "        (0): Linear(in_features=19, out_features=11, bias=True)\n",
      "        (1): BatchNorm1d(11, eps=1e-05, momentum=0.1, affine=True, track_running_stats=True)\n",
      "        (2): Sigmoid()\n",
      "        (3): Linear(in_features=11, out_features=11, bias=True)\n",
      "      )\n",
      "    )\n",
      "  )\n",
      "  (7): BatchNorm1d(11, eps=1e-05, momentum=0.1, affine=True, track_running_stats=True)\n",
      "  (8): Sigmoid()\n",
      "  (9): Linear(in_features=11, out_features=2, bias=True)\n",
      ")\n"
     ]
    }
   ],
   "source": [
    "pytorch_model = autonet.get_pytorch_model()\n",
    "print(pytorch_model)"
   ]
  },
  {
   "cell_type": "markdown",
   "metadata": {},
   "source": [
    "# Featurized Data\n",
    "\n",
    "All classes for featurized data (*AutoNetClassification*, *AutoNetMultilabel*, *AutoNetRegression*) can be used as in the example above. The only difference is the type of labels they accept."
   ]
  },
  {
   "cell_type": "markdown",
   "metadata": {},
   "source": [
    "# Image Data\n",
    "\n",
    "Auto-PyTorch provides two classes for image data. *autonet_image_classification* can be used for classification for images. The *autonet_multi_image_classification* class allows to search for configurations for image classification across multiple datasets. This means Auto-PyTorch will try to choose a configuration that works well on all given datasets."
   ]
  },
  {
   "cell_type": "code",
   "execution_count": null,
   "metadata": {},
   "outputs": [],
   "source": [
    "# Load classes\n",
    "autonet_image_classification = AutoNetImageClassification(config_preset=\"full_cs\", result_logger_dir=\"logs/\")\n",
    "autonet_multi_image_classification = AutoNetImageClassificationMultipleDatasets(config_preset=\"tiny_cs\", result_logger_dir=\"logs/\")"
   ]
  },
  {
   "cell_type": "markdown",
   "metadata": {},
   "source": [
    "For passing your image data to fit, your have two options:\n",
    "\n",
    "I) Via path to a comma-separated value file, which contains the paths to the images and the image labels (note header is assumed to be None):"
   ]
  },
  {
   "cell_type": "code",
   "execution_count": null,
   "metadata": {},
   "outputs": [],
   "source": [
    "import os\n",
    "\n",
    "csv_dir = os.path.abspath(\"../../datasets/example.csv\")\n",
    "\n",
    "X_train = np.array([csv_dir])\n",
    "Y_train = np.array([0])"
   ]
  },
  {
   "cell_type": "markdown",
   "metadata": {},
   "source": [
    "II) directly passing the paths to the images and the labels"
   ]
  },
  {
   "cell_type": "code",
   "execution_count": null,
   "metadata": {},
   "outputs": [],
   "source": [
    "import pandas as pd\n",
    "\n",
    "df = pd.read_csv(csv_dir, header=None)\n",
    "X_train = df.values[:,0]\n",
    "Y_train = df.values[:,1]"
   ]
  },
  {
   "cell_type": "markdown",
   "metadata": {
    "scrolled": false
   },
   "source": [
    "Make sure you specify *image_root_folders* if the paths to the images are not specified from your current working directory. You can also specify *images_shape* to up- or downscale images.\n",
    "\n",
    "Using the flag *save_checkpoints=True* will save checkpoints to the result directory:"
   ]
  },
  {
   "cell_type": "code",
   "execution_count": null,
   "metadata": {
    "scrolled": false
   },
   "outputs": [],
   "source": [
    "autonet_image_classification.fit(X_train=X_train,\n",
    "                                 Y_train=Y_train,\n",
    "                                 images_shape=[3,32,32],\n",
    "                                 min_budget=900,\n",
    "                                 max_budget=1200,\n",
    "                                 max_runtime=3000,\n",
    "                                 save_checkpoints=True,\n",
    "                                 images_root_folders=[os.path.abspath(\"../../datasets/example_images\")])"
   ]
  },
  {
   "cell_type": "markdown",
   "metadata": {},
   "source": [
    "Auto-PyTorch also supports some common datasets. By passing a comma-separated value file with just one line, e.g. \"CIFAR10, 0\" and specifying *default_dataset_download_dir* it will automatically download the data and use it for searching. Supported datasets are CIFAR10, CIFAR100, SVHN and MNIST."
   ]
  },
  {
   "cell_type": "code",
   "execution_count": null,
   "metadata": {},
   "outputs": [],
   "source": [
    "path_to_cifar_csv = os.path.abspath(\"../../datasets/CIFAR10.csv\")\n",
    "\n",
    "autonet_image_classification.fit(X_train=np.array([path_to_cifar_csv]),\n",
    "                                 Y_train=np.array([0]),\n",
    "                                 min_budget=900,\n",
    "                                 max_budget=1200,\n",
    "                                 max_runtime=3000,\n",
    "                                 default_dataset_download_dir=\"./datasets\",\n",
    "                                 images_root_folders=[\"./datasets\"])"
   ]
  },
  {
   "cell_type": "markdown",
   "metadata": {},
   "source": [
    "For searching across multiple datasets, pass multiple csv files to the corresponding Auto-PyTorch class. Make sure your specify *images_root_folders* for each of them."
   ]
  },
  {
   "cell_type": "code",
   "execution_count": null,
   "metadata": {},
   "outputs": [],
   "source": [
    "autonet_multi_image_classification.fit(X_train=np.array([path_to_cifar_csv, csv_dir]),\n",
    "                                       Y_train=np.array([0]),\n",
    "                                       min_budget=1500,\n",
    "                                       max_budget=2000,\n",
    "                                       max_runtime=4000,\n",
    "                                       default_dataset_download_dir=\"./datasets\",\n",
    "                                       images_root_folders=[\"./datasets\", \"./datasets/example_images\"],\n",
    "                                       log_level=\"info\")"
   ]
  }
 ],
 "metadata": {
  "kernelspec": {
   "display_name": "Python 3",
   "language": "python",
   "name": "python3"
  },
  "language_info": {
   "codemirror_mode": {
    "name": "ipython",
    "version": 3
   },
   "file_extension": ".py",
   "mimetype": "text/x-python",
   "name": "python",
   "nbconvert_exporter": "python",
   "pygments_lexer": "ipython3",
   "version": "3.7.3"
  }
 },
 "nbformat": 4,
 "nbformat_minor": 2
}
