{
 "cells": [
  {
   "cell_type": "markdown",
   "metadata": {},
   "source": [
    "# Introduction\n",
    "\n",
    "This tutorial introduces the basic Auto-PyTorch API together with the classes for featurized and image data.\n",
    "So far, Auto-PyTorch covers classification and regression on featurized data as well as classification on image data.\n",
    "For installing Auto-PyTorch, please refer to the github page.\n",
    "\n",
    "**Disclaimer**: In this notebook, data will be downloaded from the openml project for featurized tasks and CIFAR10 will be downloaded for image classification. Hence, an internet connection is required."
   ]
  },
  {
   "cell_type": "markdown",
   "metadata": {},
   "source": [
    "# API\n",
    "\n",
    "There are classes for featurized tasks (classification, multi-label classification, regression) and image tasks (classification). You can import them via:"
   ]
  },
  {
   "cell_type": "code",
   "execution_count": 4,
   "metadata": {},
   "outputs": [],
   "source": [
    "from autoPyTorch import (AutoNetClassification,\n",
    "                         AutoNetMultilabel,\n",
    "                         AutoNetRegression,\n",
    "                         AutoNetImageClassification,\n",
    "                         AutoNetImageClassificationMultipleDatasets)"
   ]
  },
  {
   "cell_type": "code",
   "execution_count": 5,
   "metadata": {},
   "outputs": [],
   "source": [
    "# Other imports for later usage\n",
    "import pandas as pd\n",
    "import numpy as np\n",
    "import os as os\n",
    "import openml\n",
    "import json"
   ]
  },
  {
   "cell_type": "markdown",
   "metadata": {},
   "source": [
    "Upon initialization of a class, you can specify its configuration. Later, you can override its configuration in each fit call. The *config_preset* allows to constrain the search space to one of *tiny_cs, medium_cs* or *full_cs*. These presets can be seen in *core/presets/*."
   ]
  },
  {
   "cell_type": "code",
   "execution_count": 6,
   "metadata": {},
   "outputs": [],
   "source": [
    "autonet = AutoNetClassification(config_preset=\"tiny_cs\", result_logger_dir=\"logs/\")"
   ]
  },
  {
   "cell_type": "markdown",
   "metadata": {},
   "source": [
    "Here are some useful methods provided by the API:"
   ]
  },
  {
   "cell_type": "code",
   "execution_count": 7,
   "metadata": {
    "scrolled": true
   },
   "outputs": [],
   "source": [
    "# Get the current configuration as dict\n",
    "current_configuration = autonet.get_current_autonet_config()\n",
    "\n",
    "# Get the ConfigSpace object with all hyperparameters, conditions, default values and default ranges\n",
    "hyperparameter_search_space = autonet.get_hyperparameter_search_space()\n",
    "\n",
    "# Print all possible configuration options \n",
    "#autonet.print_help()"
   ]
  },
  {
   "cell_type": "markdown",
   "metadata": {
    "scrolled": true
   },
   "source": [
    "The most important methods for using Auto-PyTorch are ***fit***, ***refit***, ***score*** and ***predict***.\n",
    "\n",
    "First, we get some data:"
   ]
  },
  {
   "cell_type": "code",
   "execution_count": 8,
   "metadata": {
    "scrolled": true
   },
   "outputs": [],
   "source": [
    "# Get data from the openml task \"Supervised Classification on credit-g (https://www.openml.org/t/31)\"\n",
    "task = openml.tasks.get_task(task_id=31)\n",
    "X, y = task.get_X_and_y()\n",
    "ind_train, ind_test = task.get_train_test_split_indices()\n",
    "X_train, Y_train = X[ind_train], y[ind_train]\n",
    "X_test, Y_test = X[ind_test], y[ind_test]"
   ]
  },
  {
   "cell_type": "markdown",
   "metadata": {},
   "source": [
    "***fit*** is used to search for a good configuration by fitting configurations chosen by the algorithm (by default BOHB). The incumbent configuration is then returned and stored in the class.\n",
    "\n",
    "We recommend to have a look at the possible configuration options first. Some of the most important options allow you to set the budget type (epochs or time), run id and task id for cluster usage, tensorboard logging, seed and more.\n",
    "\n",
    "Here we search for a configuration for 300 seconds with 60-100 s time for fitting each individual configuration.\n",
    "Use the *validation_split* parameter to specify a split size. You can also pass your own validation set\n",
    "via *X_val* and *Y_val*. Use *log_level=\"info\"* or *log_level=\"debug\"* for more detailed output."
   ]
  },
  {
   "cell_type": "code",
   "execution_count": 9,
   "metadata": {
    "scrolled": false
   },
   "outputs": [
    {
     "name": "stdout",
     "output_type": "stream",
     "text": [
      "The Box-Cox transformation can only be applied to strictly positive data\n",
      "Using yeo-johnson instead\n"
     ]
    }
   ],
   "source": [
    "autonet = AutoNetClassification(config_preset=\"tiny_cs\", result_logger_dir=\"logs/\")\n",
    "# Fit (note that the settings are for demonstration, you might need larger budgets)\n",
    "results_fit = autonet.fit(X_train=X_train,\n",
    "                          Y_train=Y_train,\n",
    "                          validation_split=0.3,\n",
    "                          max_runtime=300,\n",
    "                          min_budget=60,\n",
    "                          max_budget=100,\n",
    "                          refit=True)\n",
    "\n",
    "# Save fit results as json\n",
    "with open(\"logs/results_fit.json\", \"w\") as file:\n",
    "    json.dump(results_fit, file)"
   ]
  },
  {
   "cell_type": "markdown",
   "metadata": {},
   "source": [
    "***refit*** allows you to fit a configuration of your choice for a defined time. By default, the incumbent configuration is refitted during a *fit* call using the *max_budget*. However, *refit* might be useful if you want to fit on the full dataset or even another dataset or if you just want to fit a model without searching.\n",
    "\n",
    "You can specify a hyperparameter configuration to fit (if you do not specify a configuration the incumbent configuration from the last fit call will be used):"
   ]
  },
  {
   "cell_type": "code",
   "execution_count": 10,
   "metadata": {},
   "outputs": [
    {
     "name": "stderr",
     "output_type": "stream",
     "text": [
      "[INFO] [12:46:30:autonet] Start autonet with config:\n",
      "{'embeddings': ['none'], 'lr_scheduler': ['cosine_annealing', 'plateau'], 'networks': ['shapedresnet'], 'over_sampling_methods': ['smote'], 'preprocessors': ['none', 'truncated_svd', 'power_transformer'], 'target_size_strategies': ['none', 'upsample', 'median'], 'result_logger_dir': 'logs/', 'budget_type': 'epochs', 'log_level': 'info', 'use_tensorboard_logger': True, 'validation_split': 0.0, 'hyperparameter_search_space_updates': None, 'categorical_features': None, 'dataset_name': None, 'run_id': '0', 'task_id': -1, 'algorithm': 'bohb', 'eta': 3, 'min_workers': 1, 'working_dir': '.', 'network_interface_name': 'eth0', 'memory_limit_mb': 1000000, 'run_worker_on_master_node': True, 'use_pynisher': True, 'refit_validation_split': 0.0, 'cross_validator': 'none', 'cross_validator_args': {}, 'min_budget_for_cv': 0, 'shuffle': True, 'imputation_strategies': ['mean', 'median', 'most_frequent'], 'normalization_strategies': ['none', 'minmax', 'standardize', 'maxabs'], 'under_sampling_methods': ['none', 'random'], 'final_activation': 'softmax', 'initialization_methods': ['default', 'sparse'], 'initializer': 'simple_initializer', 'optimizer': ['adam', 'adamw', 'sgd', 'rmsprop'], 'additional_logs': [], 'optimize_metric': 'accuracy', 'additional_metrics': [], 'loss_modules': ['cross_entropy', 'cross_entropy_weighted'], 'batch_loss_computation_techniques': ['standard', 'mixup'], 'cuda': True, 'torch_num_threads': 1, 'full_eval_each_epoch': False, 'best_over_epochs': False, 'early_stopping_patience': inf, 'early_stopping_reset_parameters': False, 'random_seed': 930567008, 'min_budget': 5, 'max_budget': 150, 'max_runtime': inf, 'num_iterations': 4, 'cv_splits': 1, 'increase_number_of_trained_datasets': False}\n",
      "[INFO] [12:46:30:autonet] Start Refitting\n",
      "[INFO] [12:46:30:autonet] [AutoNet] No validation set given and either no cross validator given or budget too low for CV. Continue by splitting 0 of training data.\n",
      "[INFO] [12:46:30:autonet] [AutoNet] CV split 0 of 1\n"
     ]
    },
    {
     "name": "stdout",
     "output_type": "stream",
     "text": [
      "The Box-Cox transformation can only be applied to strictly positive data\n",
      "Using yeo-johnson instead\n"
     ]
    },
    {
     "name": "stderr",
     "output_type": "stream",
     "text": [
      "[INFO] [12:47:04:autonet] Finished train with budget 50.0: Preprocessing took 0s, Training took 33s, Wrap up took 0s. Total time consumption in s: 33\n",
      "[INFO] [12:47:04:autonet] [AutoNet] Done with current split!\n",
      "[INFO] [12:47:04:autonet] Aggregate the results across the splits\n",
      "[INFO] [12:47:04:autonet] Process 1 additional result(s)\n",
      "[INFO] [12:47:04:autonet] Done Refitting\n"
     ]
    }
   ],
   "source": [
    "# Create an autonet\n",
    "autonet_config = {\n",
    "    \"result_logger_dir\" : \"logs/\",\n",
    "    \"budget_type\" : \"epochs\",\n",
    "    \"log_level\" : \"info\", \n",
    "    \"use_tensorboard_logger\" : True,\n",
    "    \"validation_split\" : 0.0\n",
    "    }\n",
    "autonet = AutoNetClassification(**autonet_config)\n",
    "\n",
    "# Sample a random hyperparameter configuration as an example\n",
    "hyperparameter_config = autonet.get_hyperparameter_search_space().sample_configuration().get_dictionary()\n",
    "\n",
    "# Refit with sampled hyperparameter config for 120 s. This time on the full dataset.\n",
    "results_refit = autonet.refit(X_train=X_train,\n",
    "                              Y_train=Y_train,\n",
    "                              X_valid=None,\n",
    "                              Y_valid=None,\n",
    "                              hyperparameter_config=hyperparameter_config,\n",
    "                              autonet_config=autonet.get_current_autonet_config(),\n",
    "                              budget=50)\n",
    "\n",
    "# Save json\n",
    "with open(\"logs/results_refit.json\", \"w\") as file:\n",
    "    json.dump(results_refit, file)"
   ]
  },
  {
   "cell_type": "markdown",
   "metadata": {},
   "source": [
    "***pred*** returns the predictions of the incumbent model. ***score*** can be used to evaluate the model on a test set. "
   ]
  },
  {
   "cell_type": "code",
   "execution_count": 11,
   "metadata": {},
   "outputs": [
    {
     "name": "stdout",
     "output_type": "stream",
     "text": [
      "Model prediction: [[0.]\n",
      " [0.]\n",
      " [0.]\n",
      " [1.]\n",
      " [0.]\n",
      " [0.]\n",
      " [1.]\n",
      " [1.]\n",
      " [0.]\n",
      " [0.]]\n",
      "Accuracy score 80.0\n"
     ]
    }
   ],
   "source": [
    "# See how the random configuration performs (often it just predicts 0)\n",
    "score = autonet.score(X_test=X_test, Y_test=Y_test)\n",
    "pred = autonet.predict(X=X_test)\n",
    "\n",
    "print(\"Model prediction:\", pred[0:10])\n",
    "print(\"Accuracy score\", score)"
   ]
  },
  {
   "cell_type": "markdown",
   "metadata": {},
   "source": [
    "Finally, you can also get the incumbent model as PyTorch Sequential model via"
   ]
  },
  {
   "cell_type": "code",
   "execution_count": 12,
   "metadata": {
    "scrolled": true
   },
   "outputs": [
    {
     "name": "stdout",
     "output_type": "stream",
     "text": [
      "Sequential(\n",
      "  (0): Linear(in_features=20, out_features=276, bias=True)\n",
      "  (1): Sequential(\n",
      "    (0): ResBlock(\n",
      "      (layers): Sequential(\n",
      "        (0): BatchNorm1d(276, eps=1e-05, momentum=0.1, affine=True, track_running_stats=True)\n",
      "        (1): Sigmoid()\n",
      "        (2): Linear(in_features=276, out_features=276, bias=True)\n",
      "        (3): BatchNorm1d(276, eps=1e-05, momentum=0.1, affine=True, track_running_stats=True)\n",
      "        (4): Sigmoid()\n",
      "        (5): Dropout(p=0.36734979590227845, inplace=False)\n",
      "        (6): Linear(in_features=276, out_features=276, bias=True)\n",
      "      )\n",
      "    )\n",
      "    (1): ResBlock(\n",
      "      (layers): Sequential(\n",
      "        (0): BatchNorm1d(276, eps=1e-05, momentum=0.1, affine=True, track_running_stats=True)\n",
      "        (1): Sigmoid()\n",
      "        (2): Linear(in_features=276, out_features=276, bias=True)\n",
      "        (3): BatchNorm1d(276, eps=1e-05, momentum=0.1, affine=True, track_running_stats=True)\n",
      "        (4): Sigmoid()\n",
      "        (5): Dropout(p=0.36734979590227845, inplace=False)\n",
      "        (6): Linear(in_features=276, out_features=276, bias=True)\n",
      "      )\n",
      "    )\n",
      "    (2): ResBlock(\n",
      "      (layers): Sequential(\n",
      "        (0): BatchNorm1d(276, eps=1e-05, momentum=0.1, affine=True, track_running_stats=True)\n",
      "        (1): Sigmoid()\n",
      "        (2): Linear(in_features=276, out_features=276, bias=True)\n",
      "        (3): BatchNorm1d(276, eps=1e-05, momentum=0.1, affine=True, track_running_stats=True)\n",
      "        (4): Sigmoid()\n",
      "        (5): Dropout(p=0.36734979590227845, inplace=False)\n",
      "        (6): Linear(in_features=276, out_features=276, bias=True)\n",
      "      )\n",
      "    )\n",
      "    (3): ResBlock(\n",
      "      (layers): Sequential(\n",
      "        (0): BatchNorm1d(276, eps=1e-05, momentum=0.1, affine=True, track_running_stats=True)\n",
      "        (1): Sigmoid()\n",
      "        (2): Linear(in_features=276, out_features=276, bias=True)\n",
      "        (3): BatchNorm1d(276, eps=1e-05, momentum=0.1, affine=True, track_running_stats=True)\n",
      "        (4): Sigmoid()\n",
      "        (5): Dropout(p=0.36734979590227845, inplace=False)\n",
      "        (6): Linear(in_features=276, out_features=276, bias=True)\n",
      "      )\n",
      "    )\n",
      "  )\n",
      "  (2): Sequential(\n",
      "    (0): ResBlock(\n",
      "      (layers): Sequential(\n",
      "        (0): BatchNorm1d(276, eps=1e-05, momentum=0.1, affine=True, track_running_stats=True)\n",
      "        (1): Sigmoid()\n",
      "        (2): Linear(in_features=276, out_features=276, bias=True)\n",
      "        (3): BatchNorm1d(276, eps=1e-05, momentum=0.1, affine=True, track_running_stats=True)\n",
      "        (4): Sigmoid()\n",
      "        (5): Dropout(p=0.7346995918045569, inplace=False)\n",
      "        (6): Linear(in_features=276, out_features=276, bias=True)\n",
      "      )\n",
      "    )\n",
      "    (1): ResBlock(\n",
      "      (layers): Sequential(\n",
      "        (0): BatchNorm1d(276, eps=1e-05, momentum=0.1, affine=True, track_running_stats=True)\n",
      "        (1): Sigmoid()\n",
      "        (2): Linear(in_features=276, out_features=276, bias=True)\n",
      "        (3): BatchNorm1d(276, eps=1e-05, momentum=0.1, affine=True, track_running_stats=True)\n",
      "        (4): Sigmoid()\n",
      "        (5): Dropout(p=0.7346995918045569, inplace=False)\n",
      "        (6): Linear(in_features=276, out_features=276, bias=True)\n",
      "      )\n",
      "    )\n",
      "    (2): ResBlock(\n",
      "      (layers): Sequential(\n",
      "        (0): BatchNorm1d(276, eps=1e-05, momentum=0.1, affine=True, track_running_stats=True)\n",
      "        (1): Sigmoid()\n",
      "        (2): Linear(in_features=276, out_features=276, bias=True)\n",
      "        (3): BatchNorm1d(276, eps=1e-05, momentum=0.1, affine=True, track_running_stats=True)\n",
      "        (4): Sigmoid()\n",
      "        (5): Dropout(p=0.7346995918045569, inplace=False)\n",
      "        (6): Linear(in_features=276, out_features=276, bias=True)\n",
      "      )\n",
      "    )\n",
      "    (3): ResBlock(\n",
      "      (layers): Sequential(\n",
      "        (0): BatchNorm1d(276, eps=1e-05, momentum=0.1, affine=True, track_running_stats=True)\n",
      "        (1): Sigmoid()\n",
      "        (2): Linear(in_features=276, out_features=276, bias=True)\n",
      "        (3): BatchNorm1d(276, eps=1e-05, momentum=0.1, affine=True, track_running_stats=True)\n",
      "        (4): Sigmoid()\n",
      "        (5): Dropout(p=0.7346995918045569, inplace=False)\n",
      "        (6): Linear(in_features=276, out_features=276, bias=True)\n",
      "      )\n",
      "    )\n",
      "  )\n",
      "  (3): Sequential(\n",
      "    (0): ResBlock(\n",
      "      (layers): Sequential(\n",
      "        (0): BatchNorm1d(276, eps=1e-05, momentum=0.1, affine=True, track_running_stats=True)\n",
      "        (1): Sigmoid()\n",
      "        (2): Linear(in_features=276, out_features=276, bias=True)\n",
      "        (3): BatchNorm1d(276, eps=1e-05, momentum=0.1, affine=True, track_running_stats=True)\n",
      "        (4): Sigmoid()\n",
      "        (5): Dropout(p=0.4900446277336395, inplace=False)\n",
      "        (6): Linear(in_features=276, out_features=276, bias=True)\n",
      "      )\n",
      "    )\n",
      "    (1): ResBlock(\n",
      "      (layers): Sequential(\n",
      "        (0): BatchNorm1d(276, eps=1e-05, momentum=0.1, affine=True, track_running_stats=True)\n",
      "        (1): Sigmoid()\n",
      "        (2): Linear(in_features=276, out_features=276, bias=True)\n",
      "        (3): BatchNorm1d(276, eps=1e-05, momentum=0.1, affine=True, track_running_stats=True)\n",
      "        (4): Sigmoid()\n",
      "        (5): Dropout(p=0.4900446277336395, inplace=False)\n",
      "        (6): Linear(in_features=276, out_features=276, bias=True)\n",
      "      )\n",
      "    )\n",
      "    (2): ResBlock(\n",
      "      (layers): Sequential(\n",
      "        (0): BatchNorm1d(276, eps=1e-05, momentum=0.1, affine=True, track_running_stats=True)\n",
      "        (1): Sigmoid()\n",
      "        (2): Linear(in_features=276, out_features=276, bias=True)\n",
      "        (3): BatchNorm1d(276, eps=1e-05, momentum=0.1, affine=True, track_running_stats=True)\n",
      "        (4): Sigmoid()\n",
      "        (5): Dropout(p=0.4900446277336395, inplace=False)\n",
      "        (6): Linear(in_features=276, out_features=276, bias=True)\n",
      "      )\n",
      "    )\n",
      "    (3): ResBlock(\n",
      "      (layers): Sequential(\n",
      "        (0): BatchNorm1d(276, eps=1e-05, momentum=0.1, affine=True, track_running_stats=True)\n",
      "        (1): Sigmoid()\n",
      "        (2): Linear(in_features=276, out_features=276, bias=True)\n",
      "        (3): BatchNorm1d(276, eps=1e-05, momentum=0.1, affine=True, track_running_stats=True)\n",
      "        (4): Sigmoid()\n",
      "        (5): Dropout(p=0.4900446277336395, inplace=False)\n",
      "        (6): Linear(in_features=276, out_features=276, bias=True)\n",
      "      )\n",
      "    )\n",
      "  )\n",
      "  (4): Sequential(\n",
      "    (0): ResBlock(\n",
      "      (layers): Sequential(\n",
      "        (0): BatchNorm1d(276, eps=1e-05, momentum=0.1, affine=True, track_running_stats=True)\n",
      "        (1): Sigmoid()\n",
      "        (2): Linear(in_features=276, out_features=276, bias=True)\n",
      "        (3): BatchNorm1d(276, eps=1e-05, momentum=0.1, affine=True, track_running_stats=True)\n",
      "        (4): Sigmoid()\n",
      "        (5): Dropout(p=0.24538966366272202, inplace=False)\n",
      "        (6): Linear(in_features=276, out_features=276, bias=True)\n",
      "      )\n",
      "    )\n",
      "    (1): ResBlock(\n",
      "      (layers): Sequential(\n",
      "        (0): BatchNorm1d(276, eps=1e-05, momentum=0.1, affine=True, track_running_stats=True)\n",
      "        (1): Sigmoid()\n",
      "        (2): Linear(in_features=276, out_features=276, bias=True)\n",
      "        (3): BatchNorm1d(276, eps=1e-05, momentum=0.1, affine=True, track_running_stats=True)\n",
      "        (4): Sigmoid()\n",
      "        (5): Dropout(p=0.24538966366272202, inplace=False)\n",
      "        (6): Linear(in_features=276, out_features=276, bias=True)\n",
      "      )\n",
      "    )\n",
      "    (2): ResBlock(\n",
      "      (layers): Sequential(\n",
      "        (0): BatchNorm1d(276, eps=1e-05, momentum=0.1, affine=True, track_running_stats=True)\n",
      "        (1): Sigmoid()\n",
      "        (2): Linear(in_features=276, out_features=276, bias=True)\n",
      "        (3): BatchNorm1d(276, eps=1e-05, momentum=0.1, affine=True, track_running_stats=True)\n",
      "        (4): Sigmoid()\n",
      "        (5): Dropout(p=0.24538966366272202, inplace=False)\n",
      "        (6): Linear(in_features=276, out_features=276, bias=True)\n",
      "      )\n",
      "    )\n",
      "    (3): ResBlock(\n",
      "      (layers): Sequential(\n",
      "        (0): BatchNorm1d(276, eps=1e-05, momentum=0.1, affine=True, track_running_stats=True)\n",
      "        (1): Sigmoid()\n",
      "        (2): Linear(in_features=276, out_features=276, bias=True)\n",
      "        (3): BatchNorm1d(276, eps=1e-05, momentum=0.1, affine=True, track_running_stats=True)\n",
      "        (4): Sigmoid()\n",
      "        (5): Dropout(p=0.24538966366272202, inplace=False)\n",
      "        (6): Linear(in_features=276, out_features=276, bias=True)\n",
      "      )\n",
      "    )\n",
      "  )\n",
      "  (5): Sequential(\n",
      "    (0): ResBlock(\n",
      "      (layers): Sequential(\n",
      "        (0): BatchNorm1d(276, eps=1e-05, momentum=0.1, affine=True, track_running_stats=True)\n",
      "        (1): Sigmoid()\n",
      "        (2): Linear(in_features=276, out_features=276, bias=True)\n",
      "        (3): BatchNorm1d(276, eps=1e-05, momentum=0.1, affine=True, track_running_stats=True)\n",
      "        (4): Sigmoid()\n",
      "        (5): Dropout(p=0.0, inplace=False)\n",
      "        (6): Linear(in_features=276, out_features=276, bias=True)\n",
      "      )\n",
      "    )\n",
      "    (1): ResBlock(\n",
      "      (layers): Sequential(\n",
      "        (0): BatchNorm1d(276, eps=1e-05, momentum=0.1, affine=True, track_running_stats=True)\n",
      "        (1): Sigmoid()\n",
      "        (2): Linear(in_features=276, out_features=276, bias=True)\n",
      "        (3): BatchNorm1d(276, eps=1e-05, momentum=0.1, affine=True, track_running_stats=True)\n",
      "        (4): Sigmoid()\n",
      "        (5): Dropout(p=0.0, inplace=False)\n",
      "        (6): Linear(in_features=276, out_features=276, bias=True)\n",
      "      )\n",
      "    )\n",
      "    (2): ResBlock(\n",
      "      (layers): Sequential(\n",
      "        (0): BatchNorm1d(276, eps=1e-05, momentum=0.1, affine=True, track_running_stats=True)\n",
      "        (1): Sigmoid()\n",
      "        (2): Linear(in_features=276, out_features=276, bias=True)\n",
      "        (3): BatchNorm1d(276, eps=1e-05, momentum=0.1, affine=True, track_running_stats=True)\n",
      "        (4): Sigmoid()\n",
      "        (5): Dropout(p=0.0, inplace=False)\n",
      "        (6): Linear(in_features=276, out_features=276, bias=True)\n",
      "      )\n",
      "    )\n",
      "    (3): ResBlock(\n",
      "      (layers): Sequential(\n",
      "        (0): BatchNorm1d(276, eps=1e-05, momentum=0.1, affine=True, track_running_stats=True)\n",
      "        (1): Sigmoid()\n",
      "        (2): Linear(in_features=276, out_features=276, bias=True)\n",
      "        (3): BatchNorm1d(276, eps=1e-05, momentum=0.1, affine=True, track_running_stats=True)\n",
      "        (4): Sigmoid()\n",
      "        (5): Dropout(p=0.0, inplace=False)\n",
      "        (6): Linear(in_features=276, out_features=276, bias=True)\n",
      "      )\n",
      "    )\n",
      "  )\n",
      "  (6): BatchNorm1d(276, eps=1e-05, momentum=0.1, affine=True, track_running_stats=True)\n",
      "  (7): Sigmoid()\n",
      "  (8): Linear(in_features=276, out_features=2, bias=True)\n",
      ")\n"
     ]
    }
   ],
   "source": [
    "pytorch_model = autonet.get_pytorch_model()\n",
    "print(pytorch_model)"
   ]
  },
  {
   "cell_type": "markdown",
   "metadata": {},
   "source": [
    "# Featurized Data\n",
    "\n",
    "All classes for featurized data (*AutoNetClassification*, *AutoNetMultilabel*, *AutoNetRegression*) can be used as in the example above. The only difference is the type of labels they accept."
   ]
  },
  {
   "cell_type": "markdown",
   "metadata": {},
   "source": [
    "# Image Data\n",
    "\n",
    "Auto-PyTorch provides two classes for image data. *autonet_image_classification* can be used for classification for images. The *autonet_multi_image_classification* class allows to search for configurations for image classification across multiple datasets. This means Auto-PyTorch will try to choose a configuration that works well on all given datasets."
   ]
  },
  {
   "cell_type": "code",
   "execution_count": 3,
   "metadata": {},
   "outputs": [
    {
     "name": "stdout",
     "output_type": "stream",
     "text": [
      "Could not find BOHB_Multi_KDE, replacing with object\n"
     ]
    }
   ],
   "source": [
    "# Load classes\n",
    "autonet_image_classification = AutoNetImageClassification(config_preset=\"full_cs\", result_logger_dir=\"logs/\")\n",
    "autonet_multi_image_classification = AutoNetImageClassificationMultipleDatasets(config_preset=\"tiny_cs\", result_logger_dir=\"logs/\")"
   ]
  },
  {
   "cell_type": "markdown",
   "metadata": {},
   "source": [
    "For passing your image data, you have two options (note that arrays are expected):\n",
    "\n",
    "I) Via a path to a comma-separated value file, which in turn contains the paths to the images and the image labels (note header is assumed to be None):"
   ]
  },
  {
   "cell_type": "code",
   "execution_count": 4,
   "metadata": {},
   "outputs": [],
   "source": [
    "csv_dir = os.path.abspath(\"../../datasets/example.csv\")\n",
    "\n",
    "X_train = np.array([csv_dir])\n",
    "Y_train = np.array([0])"
   ]
  },
  {
   "cell_type": "markdown",
   "metadata": {},
   "source": [
    "II) directly passing the paths to the images and the labels"
   ]
  },
  {
   "cell_type": "code",
   "execution_count": 5,
   "metadata": {},
   "outputs": [],
   "source": [
    "df = pd.read_csv(csv_dir, header=None)\n",
    "X_train = df.values[:,0]\n",
    "Y_train = df.values[:,1]"
   ]
  },
  {
   "cell_type": "markdown",
   "metadata": {
    "scrolled": false
   },
   "source": [
    "Make sure you specify *image_root_folders* if the paths to the images are not specified from your current working directory. You can also specify *images_shape* to up- or downscale images.\n",
    "\n",
    "Using the flag *save_checkpoints=True* will save checkpoints to the result directory:"
   ]
  },
  {
   "cell_type": "code",
   "execution_count": null,
   "metadata": {
    "scrolled": true
   },
   "outputs": [],
   "source": [
    "autonet_image_classification.fit(X_train=X_train,\n",
    "                                 Y_train=Y_train,\n",
    "                                 images_shape=[3,32,32],\n",
    "                                 min_budget=100,\n",
    "                                 max_budget=300,\n",
    "                                 max_runtime=600,\n",
    "                                 save_checkpoints=True,\n",
    "                                 images_root_folders=[os.path.abspath(\"../../datasets/example_images\")],\n",
    "                                 log_level=\"info\")"
   ]
  },
  {
   "cell_type": "markdown",
   "metadata": {},
   "source": [
    "Auto-PyTorch also supports some common datasets. By passing a comma-separated value file with just one line, e.g. \"CIFAR10, 0\" and specifying *default_dataset_download_dir* it will automatically download the data and use it for searching. Supported datasets are CIFAR10, CIFAR100, SVHN and MNIST."
   ]
  },
  {
   "cell_type": "code",
   "execution_count": 6,
   "metadata": {
    "scrolled": true
   },
   "outputs": [
    {
     "name": "stderr",
     "output_type": "stream",
     "text": [
      "[INFO] [11:32:27:autonet] Start autonet with config:\n",
      "{'additional_logs': [],\n",
      " 'additional_metrics': [],\n",
      " 'algorithm': 'bohb',\n",
      " 'batch_loss_computation_techniques': ['standard', 'mixup'],\n",
      " 'budget_type': 'time',\n",
      " 'cuda': True,\n",
      " 'cv_splits': 1,\n",
      " 'dataloader_cache_size_mb': 0,\n",
      " 'dataloader_worker': 1,\n",
      " 'dataset_order': None,\n",
      " 'default_dataset_download_dir': './datasets',\n",
      " 'eta': 3,\n",
      " 'evaluate_on_train_data': True,\n",
      " 'file_extensions': ['.png', '.jpg', '.JPEG', '.pgm'],\n",
      " 'final_activation': 'softmax',\n",
      " 'global_results_dir': None,\n",
      " 'half_num_cv_splits_below_budget': 0,\n",
      " 'hyperparameter_search_space_updates': None,\n",
      " 'images_root_folders': ['./datasets'],\n",
      " 'images_shape': [3, 32, 32],\n",
      " 'increase_number_of_trained_datasets': False,\n",
      " 'keep_only_incumbent_checkpoints': True,\n",
      " 'log_level': 'info',\n",
      " 'loss_modules': ['cross_entropy', 'cross_entropy_weighted'],\n",
      " 'lr_scheduler': ['cosine_annealing',\n",
      "                  'cyclic',\n",
      "                  'step',\n",
      "                  'adapt',\n",
      "                  'plateau',\n",
      "                  'alternating_cosine',\n",
      "                  'exponential',\n",
      "                  'none'],\n",
      " 'max_budget': 900,\n",
      " 'max_class_size': None,\n",
      " 'max_runtime': 1800,\n",
      " 'memory_limit_mb': 1000000,\n",
      " 'min_budget': 600,\n",
      " 'min_budget_for_cv': 0,\n",
      " 'min_workers': 1,\n",
      " 'minimize': False,\n",
      " 'network_interface_name': 'eth0',\n",
      " 'networks': ['densenet',\n",
      "              'densenet_flexible',\n",
      "              'resnet',\n",
      "              'resnet152',\n",
      "              'darts',\n",
      "              'mobilenet'],\n",
      " 'num_iterations': inf,\n",
      " 'optimize_metric': 'accuracy',\n",
      " 'optimizer': ['adam', 'adamw', 'sgd', 'rmsprop'],\n",
      " 'random_seed': 2214195982,\n",
      " 'result_logger_dir': 'logs/',\n",
      " 'run_id': '0',\n",
      " 'save_checkpoints': False,\n",
      " 'shuffle': True,\n",
      " 'task_id': -1,\n",
      " 'tensorboard_images_count': 0,\n",
      " 'tensorboard_min_log_interval': 30,\n",
      " 'use_stratified_cv_split': True,\n",
      " 'use_tensorboard_logger': False,\n",
      " 'validation_split': 0.0,\n",
      " 'working_dir': '.'}\n",
      "[INFO] [11:32:27:autonet] [AutoNet] Start bohb\n",
      "[INFO] [11:32:27:hpbandster.run_0.worker.mlgpu14.4500.-1] WORKER: start listening for jobs\n",
      "[INFO] [11:32:27:hpbandster] DISPATCHER: started the 'discover_worker' thread\n",
      "[INFO] [11:32:27:hpbandster] DISPATCHER: started the 'job_runner' thread\n",
      "[INFO] [11:32:27:hpbandster] DISPATCHER: Pyro daemon running on 10.5.166.105:43149\n",
      "[INFO] [11:32:27:hpbandster] DISPATCHER: discovered new worker, hpbandster.run_0.worker.mlgpu14.4500.-1139990687835968\n",
      "[INFO] [11:32:27:hpbandster] HBMASTER: adjusted queue size to (0, 1)\n",
      "[INFO] [11:32:27:hpbandster] HBMASTER: starting run at 1570613547.6513581\n",
      "[INFO] [11:32:27:hpbandster.run_0.worker.mlgpu14.4500.-1] WORKER: start processing job (0, 0, 0)\n",
      "[INFO] [11:32:27:autonet] Fit optimization pipeline\n"
     ]
    },
    {
     "name": "stdout",
     "output_type": "stream",
     "text": [
      "0 50000\n",
      "Files already downloaded and verified\n",
      "Files already downloaded and verified\n"
     ]
    },
    {
     "name": "stderr",
     "output_type": "stream",
     "text": [
      "[INFO] [11:47:45:autonet] Finished train with budget 900.0s, Training took 900s, Wrap up took 0s, Init took 0s, Train took 900s, Validation took 0s, Log functions took 0s, Cumulative time 900s.\n",
      "Total time consumption in s: 900\n",
      "[INFO] [11:47:46:autonet] Training ['resnet152'] with budget 900.0 resulted in score: -59.46610467158413 took 918.7896795272827 seconds\n",
      "[INFO] [11:47:46:hpbandster.run_0.worker.mlgpu14.4500.-1] WORKER: registered result for job (0, 0, 0) with dispatcher\n",
      "[INFO] [11:47:46:hpbandster] HBMASTER: Timelimit reached: wait for remaining 0 jobs\n",
      "[INFO] [11:47:46:hpbandster] DISPATCHER: Dispatcher shutting down\n",
      "[INFO] [11:47:46:hpbandster] DISPATCHER: shut down complete\n",
      "[INFO] [11:47:47:autonet] Start autonet with config:\n",
      "{'additional_logs': [],\n",
      " 'additional_metrics': [],\n",
      " 'algorithm': 'bohb',\n",
      " 'batch_loss_computation_techniques': ['standard', 'mixup'],\n",
      " 'budget_type': 'time',\n",
      " 'cuda': True,\n",
      " 'cv_splits': 1,\n",
      " 'dataloader_cache_size_mb': 0,\n",
      " 'dataloader_worker': 1,\n",
      " 'dataset_order': None,\n",
      " 'default_dataset_download_dir': './datasets',\n",
      " 'eta': 3,\n",
      " 'evaluate_on_train_data': True,\n",
      " 'file_extensions': ['.png', '.jpg', '.JPEG', '.pgm'],\n",
      " 'final_activation': 'softmax',\n",
      " 'global_results_dir': None,\n",
      " 'half_num_cv_splits_below_budget': 0,\n",
      " 'hyperparameter_search_space_updates': None,\n",
      " 'images_root_folders': ['./datasets'],\n",
      " 'images_shape': [3, 32, 32],\n",
      " 'increase_number_of_trained_datasets': False,\n",
      " 'keep_only_incumbent_checkpoints': True,\n",
      " 'log_level': 'info',\n",
      " 'loss_modules': ['cross_entropy', 'cross_entropy_weighted'],\n",
      " 'lr_scheduler': ['cosine_annealing',\n",
      "                  'cyclic',\n",
      "                  'step',\n",
      "                  'adapt',\n",
      "                  'plateau',\n",
      "                  'alternating_cosine',\n",
      "                  'exponential',\n",
      "                  'none'],\n",
      " 'max_budget': 900,\n",
      " 'max_class_size': None,\n",
      " 'max_runtime': 1800,\n",
      " 'memory_limit_mb': 1000000,\n",
      " 'min_budget': 600,\n",
      " 'min_budget_for_cv': 0,\n",
      " 'min_workers': 1,\n",
      " 'minimize': False,\n",
      " 'network_interface_name': 'eth0',\n",
      " 'networks': ['densenet',\n",
      "              'densenet_flexible',\n",
      "              'resnet',\n",
      "              'resnet152',\n",
      "              'darts',\n",
      "              'mobilenet'],\n",
      " 'num_iterations': inf,\n",
      " 'optimize_metric': 'accuracy',\n",
      " 'optimizer': ['adam', 'adamw', 'sgd', 'rmsprop'],\n",
      " 'random_seed': 2214195982,\n",
      " 'result_logger_dir': 'logs/',\n",
      " 'run_id': '0',\n",
      " 'save_checkpoints': False,\n",
      " 'shuffle': True,\n",
      " 'task_id': -1,\n",
      " 'tensorboard_images_count': 0,\n",
      " 'tensorboard_min_log_interval': 30,\n",
      " 'use_stratified_cv_split': True,\n",
      " 'use_tensorboard_logger': False,\n",
      " 'validation_split': 0.0,\n",
      " 'working_dir': '.'}\n"
     ]
    },
    {
     "name": "stdout",
     "output_type": "stream",
     "text": [
      "0 50000\n",
      "Files already downloaded and verified\n",
      "Files already downloaded and verified\n"
     ]
    },
    {
     "name": "stderr",
     "output_type": "stream",
     "text": [
      "[INFO] [12:03:05:autonet] Finished train with budget 900.0s, Training took 900s, Wrap up took 0s, Init took 0s, Train took 900s, Validation took 0s, Log functions took 0s, Cumulative time 900s.\n",
      "Total time consumption in s: 900\n"
     ]
    },
    {
     "data": {
      "text/plain": [
       "{'loss': -59.46610467158413,\n",
       " 'optimized_hyperparameter_config': {'NetworkSelectorDatasetInfo:darts:auxiliary': False,\n",
       "  'NetworkSelectorDatasetInfo:darts:drop_path_prob': 0.1,\n",
       "  'NetworkSelectorDatasetInfo:darts:init_channels': 36,\n",
       "  'NetworkSelectorDatasetInfo:darts:layers': 20,\n",
       "  'CreateImageDataLoader:batch_size': 73,\n",
       "  'ImageAugmentation:augment': False,\n",
       "  'ImageAugmentation:cutout': False,\n",
       "  'LossModuleSelectorIndices:loss_module': 'cross_entropy_weighted',\n",
       "  'NetworkSelectorDatasetInfo:network': 'resnet152',\n",
       "  'OptimizerSelector:optimizer': 'sgd',\n",
       "  'SimpleLearningrateSchedulerSelector:lr_scheduler': 'adapt',\n",
       "  'SimpleTrainNode:batch_loss_computation_technique': 'standard',\n",
       "  'OptimizerSelector:sgd:learning_rate': 0.005042807661492666,\n",
       "  'OptimizerSelector:sgd:momentum': 0.1748329156598709,\n",
       "  'OptimizerSelector:sgd:weight_decay': 0.07558471538402955,\n",
       "  'SimpleLearningrateSchedulerSelector:adapt:T_max': 563,\n",
       "  'SimpleLearningrateSchedulerSelector:adapt:T_mult': 1.879929125554272,\n",
       "  'SimpleLearningrateSchedulerSelector:adapt:patience': 2,\n",
       "  'SimpleLearningrateSchedulerSelector:adapt:threshold': 0.43953248007742884},\n",
       " 'budget': 900.0,\n",
       " 'info': {}}"
      ]
     },
     "execution_count": 6,
     "metadata": {},
     "output_type": "execute_result"
    }
   ],
   "source": [
    "path_to_cifar_csv = os.path.abspath(\"../../datasets/CIFAR10.csv\")\n",
    "\n",
    "autonet_image_classification.fit(X_train=np.array([path_to_cifar_csv]),\n",
    "                                 Y_train=np.array([0]),\n",
    "                                 min_budget=600,\n",
    "                                 max_budget=900,\n",
    "                                 max_runtime=1800,\n",
    "                                 default_dataset_download_dir=\"./datasets\",\n",
    "                                 images_root_folders=[\"./datasets\"],\n",
    "                                 log_level=\"info\")"
   ]
  },
  {
   "cell_type": "markdown",
   "metadata": {},
   "source": [
    "For searching across multiple datasets, pass multiple csv files to the corresponding Auto-PyTorch class. Make sure your specify *images_root_folders* for each of them."
   ]
  },
  {
   "cell_type": "code",
   "execution_count": null,
   "metadata": {},
   "outputs": [],
   "source": [
    "autonet_multi_image_classification.fit(X_train=np.array([path_to_cifar_csv, csv_dir]),\n",
    "                                       Y_train=np.array([0]),\n",
    "                                       min_budget=1500,\n",
    "                                       max_budget=2000,\n",
    "                                       max_runtime=4000,\n",
    "                                       default_dataset_download_dir=\"./datasets\",\n",
    "                                       images_root_folders=[\"./datasets\", \"./datasets/example_images\"],\n",
    "                                       log_level=\"info\")"
   ]
  }
 ],
 "metadata": {
  "kernelspec": {
   "display_name": "Python 3",
   "language": "python",
   "name": "python3"
  },
  "language_info": {
   "codemirror_mode": {
    "name": "ipython",
    "version": 3
   },
   "file_extension": ".py",
   "mimetype": "text/x-python",
   "name": "python",
   "nbconvert_exporter": "python",
   "pygments_lexer": "ipython3",
   "version": "3.6.8"
  }
 },
 "nbformat": 4,
 "nbformat_minor": 2
}
