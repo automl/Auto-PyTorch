{
  "cells": [
    {
      "cell_type": "code",
      "execution_count": null,
      "metadata": {
        "collapsed": false
      },
      "outputs": [],
      "source": [
        "%matplotlib inline"
      ]
    },
    {
      "cell_type": "markdown",
      "metadata": {},
      "source": [
        "\n# Tabular Classification with user passed feature types\n\nThe following example shows how to pass feature typesfor datasets which are in \nnumpy format (also works for dataframes and lists) fit a sample classification \nmodel with AutoPyTorch.\n\nAutoPyTorch relies on column dtypes for intepreting the feature types. But they \ncan be misinterpreted for example, when dataset is passed as a numpy array, all \nthe data is interpreted as numerical if it's dtype is int or float. However, the \ncategorical values could have been encoded as integers.\n\nPassing feature types helps AutoPyTorch interpreting them correctly as well as\nvalidates the dataset by checking the dtype of the columns for any incompatibilities.\n"
      ]
    },
    {
      "cell_type": "code",
      "execution_count": null,
      "metadata": {
        "collapsed": false
      },
      "outputs": [],
      "source": [
        "import os\nimport tempfile as tmp\nimport warnings\n\nos.environ['JOBLIB_TEMP_FOLDER'] = tmp.gettempdir()\nos.environ['OMP_NUM_THREADS'] = '1'\nos.environ['OPENBLAS_NUM_THREADS'] = '1'\nos.environ['MKL_NUM_THREADS'] = '1'\n\nwarnings.simplefilter(action='ignore', category=UserWarning)\nwarnings.simplefilter(action='ignore', category=FutureWarning)\n\nimport openml\nimport sklearn.model_selection\n\nfrom autoPyTorch.api.tabular_classification import TabularClassificationTask"
      ]
    },
    {
      "cell_type": "markdown",
      "metadata": {},
      "source": [
        "## Data Loading\n\n"
      ]
    },
    {
      "cell_type": "code",
      "execution_count": null,
      "metadata": {
        "collapsed": false
      },
      "outputs": [],
      "source": [
        "task = openml.tasks.get_task(task_id=146821)\ndataset = task.get_dataset()\nX, y, categorical_indicator, _ = dataset.get_data(\n    dataset_format='array',\n    target=dataset.default_target_attribute,\n)\nX_train, X_test, y_train, y_test = sklearn.model_selection.train_test_split(\n    X,\n    y,\n    random_state=1,\n)\n\nfeat_types = [\"numerical\" if not indicator else \"categorical\" for indicator in categorical_indicator]\n\n#"
      ]
    },
    {
      "cell_type": "markdown",
      "metadata": {},
      "source": [
        "## Build and fit a classifier\n\n"
      ]
    },
    {
      "cell_type": "code",
      "execution_count": null,
      "metadata": {
        "collapsed": false
      },
      "outputs": [],
      "source": [
        "api = TabularClassificationTask(\n    # To maintain logs of the run, you can uncomment the\n    # Following lines\n    # temporary_directory='./tmp/autoPyTorch_example_tmp_01',\n    # output_directory='./tmp/autoPyTorch_example_out_01',\n    # delete_tmp_folder_after_terminate=False,\n    # delete_output_folder_after_terminate=False,\n    seed=42,\n)"
      ]
    },
    {
      "cell_type": "markdown",
      "metadata": {},
      "source": [
        "## Search for an ensemble of machine learning algorithms\n\n"
      ]
    },
    {
      "cell_type": "code",
      "execution_count": null,
      "metadata": {
        "collapsed": false
      },
      "outputs": [],
      "source": [
        "api.search(\n    X_train=X_train,\n    y_train=y_train,\n    X_test=X_test.copy(),\n    y_test=y_test.copy(),\n    dataset_name='Australian',\n    optimize_metric='accuracy',\n    total_walltime_limit=100,\n    func_eval_time_limit_secs=50,\n    feat_types=feat_types,\n    enable_traditional_pipeline=False\n)"
      ]
    },
    {
      "cell_type": "markdown",
      "metadata": {},
      "source": [
        "## Print the final ensemble performance\n\n"
      ]
    },
    {
      "cell_type": "code",
      "execution_count": null,
      "metadata": {
        "collapsed": false
      },
      "outputs": [],
      "source": [
        "y_pred = api.predict(X_test)\nscore = api.score(y_pred, y_test)\nprint(score)\n# Print the final ensemble built by AutoPyTorch\nprint(api.show_models())\n\n# Print statistics from search\nprint(api.sprint_statistics())"
      ]
    }
  ],
  "metadata": {
    "kernelspec": {
      "display_name": "Python 3",
      "language": "python",
      "name": "python3"
    },
    "language_info": {
      "codemirror_mode": {
        "name": "ipython",
        "version": 3
      },
      "file_extension": ".py",
      "mimetype": "text/x-python",
      "name": "python",
      "nbconvert_exporter": "python",
      "pygments_lexer": "ipython3",
      "version": "3.8.13"
    }
  },
  "nbformat": 4,
  "nbformat_minor": 0
}