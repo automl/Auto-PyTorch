{
 "cells": [
  {
   "cell_type": "code",
   "execution_count": 1,
   "metadata": {},
   "outputs": [],
   "source": [
    "import os, sys\n",
    "# sys.path.append(os.path.abspath(os.path.join(__file__, \"..\", \"..\", \"..\")))\n",
    "from autoPyTorch import AutoNetImageClassification\n",
    "from autoPyTorch.data_management.data_manager import DataManager\n",
    "from autoPyTorch.pipeline.nodes.image.network_selector_datasetinfo import NetworkSelectorDatasetInfo\n",
    "from autoPyTorch.components.networks.image.resnet import ResNet\n",
    "import numpy as np\n",
    "import datetime"
   ]
  },
  {
   "cell_type": "code",
   "execution_count": 2,
   "metadata": {},
   "outputs": [],
   "source": [
    "path_to_cifar_csv = os.path.abspath(\"datasets/CIFAR10.csv\")"
   ]
  },
  {
   "cell_type": "code",
   "execution_count": 4,
   "metadata": {
    "tags": []
   },
   "outputs": [
    {
     "output_type": "stream",
     "name": "stdout",
     "text": "0 50000\nFiles already downloaded and verified\nFiles already downloaded and verified\n9.864163 resnet9\n{'loss': inf, 'optimized_hyperparameter_config': {'NetworkSelectorDatasetInfo:network': 'resnet9', 'SimpleLearningrateSchedulerSelector:lr_scheduler': 'cosine_annealing', 'CreateImageDataLoader:batch_size': 39, 'ImageAugmentation:augment': False, 'ImageAugmentation:cutout': True, 'LossModuleSelectorIndices:loss_module': 'cross_entropy', 'OptimizerSelector:optimizer': 'adamw', 'SimpleTrainNode:batch_loss_computation_technique': 'mixup', 'ImageAugmentation:cutout_holes': 1, 'ImageAugmentation:length': 13, 'NetworkSelectorDatasetInfo:resnet9:conv_bn': 'conv_bn_pool_act', 'OptimizerSelector:adamw:learning_rate': 0.0008020823846183383, 'OptimizerSelector:adamw:weight_decay': 0.08915539801469265, 'SimpleLearningrateSchedulerSelector:cosine_annealing:T_max': 232, 'SimpleLearningrateSchedulerSelector:cosine_annealing:eta_min': 7.681969790099928e-08, 'SimpleTrainNode:mixup:alpha': 0.8716000280741226}, 'budget': 1, 'info': {}}\n"
    }
   ],
   "source": [
    "networks = ['resnet9']#, 'resnet']\n",
    "for network in networks:\n",
    "    c = datetime.datetime.now()\n",
    "    autonet = AutoNetImageClassification(config_preset=\"full_cs\", \n",
    "                                        networks=[network], \n",
    "                                        lr_scheduler=['cosine_annealing'], \n",
    "                                        prefetch=False, \n",
    "                                        budget_type='epochs', \n",
    "                                        result_logger_dir=\"./results\", \n",
    "                                        working_dir='./results/')\n",
    "    config = autonet.get_current_autonet_config()\n",
    "    hyperparameter_config = autonet.get_hyperparameter_search_space().sample_configuration().get_dictionary()\n",
    "    # print(hyperparameter_config)\n",
    "    # print(config)\n",
    "    # autonet.fit(X_train=np.array([path_to_cifar_csv]),\n",
    "    #                                 Y_train=np.array([0]),\n",
    "    #                                 X_valid=None,\n",
    "    #                                 Y_valid=None,\n",
    "    #                                 hyperparameter_config=hyperparameter_config,\n",
    "    #                                 autonet_config=config,\n",
    "    #                                 budget=1)\n",
    "    result = autonet.refit(X_train=np.array([path_to_cifar_csv]),\n",
    "                                    Y_train=np.array([0]),\n",
    "                                    X_valid=None,\n",
    "                                    Y_valid=None,\n",
    "                                    hyperparameter_config=hyperparameter_config,\n",
    "                                    autonet_config=config,\n",
    "                                    budget=1)\n",
    "    a = (datetime.datetime.now() -c).total_seconds()\n",
    "    print(a, network)\n",
    "    print(result)"
   ]
  },
  {
   "cell_type": "code",
   "execution_count": 44,
   "metadata": {},
   "outputs": [
    {
     "output_type": "execute_result",
     "data": {
      "text/plain": "autoPyTorch.components.networks.image.resnet.ResNet"
     },
     "metadata": {},
     "execution_count": 44
    }
   ],
   "source": []
  },
  {
   "cell_type": "code",
   "execution_count": null,
   "metadata": {},
   "outputs": [],
   "source": []
  }
 ],
 "metadata": {
  "kernelspec": {
   "display_name": "Python 3.7.7 64-bit ('auto-env': conda)",
   "language": "python",
   "name": "python37764bitautoenvconda1a16dc3f7e554b358d6c1a9c3e6ad9f9"
  },
  "language_info": {
   "codemirror_mode": {
    "name": "ipython",
    "version": 3
   },
   "file_extension": ".py",
   "mimetype": "text/x-python",
   "name": "python",
   "nbconvert_exporter": "python",
   "pygments_lexer": "ipython3",
   "version": "3.7.7-final"
  }
 },
 "nbformat": 4,
 "nbformat_minor": 2
}