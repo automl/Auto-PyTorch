{
 "cells": [
  {
   "cell_type": "code",
   "execution_count": 1,
   "metadata": {},
   "outputs": [],
   "source": [
    "import os, sys\n",
    "# sys.path.append(os.path.abspath(os.path.join(__file__, \"..\", \"..\", \"..\")))\n",
    "from autoPyTorch import AutoNetImageClassification\n",
    "from autoPyTorch.data_management.data_manager import DataManager\n",
    "import numpy as np"
   ]
  },
  {
   "cell_type": "code",
   "execution_count": 12,
   "metadata": {},
   "outputs": [
    {
     "output_type": "stream",
     "name": "stdout",
     "text": "{'CreateImageDataLoader:batch_size': 110, 'ImageAugmentation:augment': False, 'ImageAugmentation:cutout': True, 'LossModuleSelectorIndices:loss_module': 'cross_entropy', 'NetworkSelectorDatasetInfo:network': 'resnet9', 'OptimizerSelector:optimizer': 'rmsprop', 'SimpleLearningrateSchedulerSelector:lr_scheduler': 'cyclic', 'SimpleTrainNode:batch_loss_computation_technique': 'standard', 'ImageAugmentation:cutout_holes': 3, 'ImageAugmentation:length': 17, 'NetworkSelectorDatasetInfo:resnet9:conv_bn': 'conv_pool_bn_act', 'OptimizerSelector:rmsprop:alpha': 0.7277814280937108, 'OptimizerSelector:rmsprop:learning_rate': 0.004443696398389036, 'OptimizerSelector:rmsprop:momentum': 0.42523072016205193, 'OptimizerSelector:rmsprop:weight_decay': 0.0914885764715718, 'SimpleLearningrateSchedulerSelector:cyclic:cycle_length': 4, 'SimpleLearningrateSchedulerSelector:cyclic:max_factor': 1.2273085661261378, 'SimpleLearningrateSchedulerSelector:cyclic:min_factor': 0.03860898538456489}\n"
    }
   ],
   "source": [
    "autonet = AutoNetImageClassification(config_preset=\"full_cs\", networks=[\"resnet9\"])\n",
    "hyperparameter_config = autonet.get_hyperparameter_search_space().sample_configuration().get_dictionary()\n",
    "config = autonet.get_current_autonet_config()\n",
    "config['result_logger_dir'] = './results'\n",
    "print(hyperparameter_config)"
   ]
  },
  {
   "cell_type": "code",
   "execution_count": 10,
   "metadata": {},
   "outputs": [],
   "source": [
    "path_to_cifar_csv = os.path.abspath(\"datasets/CIFAR10.csv\")"
   ]
  },
  {
   "cell_type": "code",
   "execution_count": 11,
   "metadata": {
    "tags": [
     "outputPrepend",
     "outputPrepend",
     "outputPrepend",
     "outputPrepend",
     "outputPrepend",
     "outputPrepend",
     "outputPrepend",
     "outputPrepend",
     "outputPrepend",
     "outputPrepend",
     "outputPrepend",
     "outputPrepend",
     "outputPrepend",
     "outputPrepend",
     "outputPrepend",
     "outputPrepend",
     "outputPrepend",
     "outputPrepend",
     "outputPrepend",
     "outputPrepend",
     "outputPrepend",
     "outputPrepend",
     "outputPrepend",
     "outputPrepend",
     "outputPrepend",
     "outputPrepend",
     "outputPrepend",
     "outputPrepend",
     "outputPrepend",
     "outputPrepend",
     "outputPrepend",
     "outputPrepend",
     "outputPrepend",
     "outputPrepend",
     "outputPrepend",
     "outputPrepend",
     "outputPrepend",
     "outputPrepend",
     "outputPrepend",
     "outputPrepend",
     "outputPrepend",
     "outputPrepend",
     "outputPrepend",
     "outputPrepend",
     "outputPrepend",
     "outputPrepend",
     "outputPrepend",
     "outputPrepend",
     "outputPrepend",
     "outputPrepend",
     "outputPrepend",
     "outputPrepend",
     "outputPrepend",
     "outputPrepend",
     "outputPrepend",
     "outputPrepend",
     "outputPrepend",
     "outputPrepend",
     "outputPrepend",
     "outputPrepend",
     "outputPrepend",
     "outputPrepend",
     "outputPrepend",
     "outputPrepend",
     "outputPrepend",
     "outputPrepend",
     "outputPrepend",
     "outputPrepend",
     "outputPrepend",
     "outputPrepend",
     "outputPrepend",
     "outputPrepend",
     "outputPrepend",
     "outputPrepend",
     "outputPrepend",
     "outputPrepend",
     "outputPrepend",
     "outputPrepend",
     "outputPrepend",
     "outputPrepend",
     "outputPrepend",
     "outputPrepend",
     "outputPrepend",
     "outputPrepend",
     "outputPrepend",
     "outputPrepend",
     "outputPrepend",
     "outputPrepend",
     "outputPrepend",
     "outputPrepend",
     "outputPrepend",
     "outputPrepend",
     "outputPrepend",
     "outputPrepend",
     "outputPrepend",
     "outputPrepend",
     "outputPrepend",
     "outputPrepend",
     "outputPrepend",
     "outputPrepend",
     "outputPrepend",
     "outputPrepend",
     "outputPrepend",
     "outputPrepend",
     "outputPrepend",
     "outputPrepend",
     "outputPrepend",
     "outputPrepend",
     "outputPrepend",
     "outputPrepend",
     "outputPrepend",
     "outputPrepend",
     "outputPrepend",
     "outputPrepend",
     "outputPrepend",
     "outputPrepend",
     "outputPrepend",
     "outputPrepend",
     "outputPrepend",
     "outputPrepend",
     "outputPrepend",
     "outputPrepend",
     "outputPrepend",
     "outputPrepend",
     "outputPrepend",
     "outputPrepend",
     "outputPrepend",
     "outputPrepend",
     "outputPrepend",
     "outputPrepend",
     "outputPrepend",
     "outputPrepend",
     "outputPrepend",
     "outputPrepend",
     "outputPrepend",
     "outputPrepend",
     "outputPrepend"
    ]
   },
   "outputs": [
    {
     "output_type": "stream",
     "name": "stdout",
     "text": "<autoPyTorch.utils.configspace_wrapper.ConfigWrapper object at 0x7fe90f8eb110>\n{'CreateImageDataLoader:batch_size': 110,\n 'ImageAugmentation:augment': False,\n 'ImageAugmentation:cutout': True,\n 'ImageAugmentation:cutout_holes': 3,\n 'ImageAugmentation:length': 32,\n 'LossModuleSelectorIndices:loss_module': 'cross_entropy',\n 'NetworkSelectorDatasetInfo:network': 'resnet9',\n 'NetworkSelectorDatasetInfo:resnet9:conv_bn': 'conv_pool_bn_act',\n 'OptimizerSelector:optimizer': 'rmsprop',\n 'OptimizerSelector:rmsprop:alpha': 0.7277814280937108,\n 'OptimizerSelector:rmsprop:learning_rate': 0.004443696398389036,\n 'OptimizerSelector:rmsprop:momentum': 0.42523072016205193,\n 'OptimizerSelector:rmsprop:weight_decay': 0.0914885764715718,\n 'SimpleLearningrateSchedulerSelector:cosine_annealing:eta_min': 1e-08,\n 'SimpleLearningrateSchedulerSelector:cyclic:cycle_length': 4,\n 'SimpleLearningrateSchedulerSelector:cyclic:max_factor': 1.2273085661261378,\n 'SimpleLearningrateSchedulerSelector:cyclic:min_factor': 0.03860898538456489,\n 'SimpleLearningrateSchedulerSelector:lr_scheduler': 'cosine_annealing',\n 'SimpleTrainNode:batch_loss_computation_technique': 'standard'}\n"
    },
    {
     "output_type": "execute_result",
     "data": {
      "text/plain": "{'loss': inf,\n 'optimized_hyperparameter_config': {'NetworkSelectorDatasetInfo:network': 'resnet9',\n  'SimpleLearningrateSchedulerSelector:cosine_annealing:eta_min': 1e-08,\n  'CreateImageDataLoader:batch_size': 110,\n  'ImageAugmentation:augment': False,\n  'ImageAugmentation:cutout': True,\n  'LossModuleSelectorIndices:loss_module': 'cross_entropy',\n  'OptimizerSelector:optimizer': 'rmsprop',\n  'SimpleLearningrateSchedulerSelector:lr_scheduler': 'cosine_annealing',\n  'SimpleTrainNode:batch_loss_computation_technique': 'standard',\n  'ImageAugmentation:cutout_holes': 3,\n  'ImageAugmentation:length': 32,\n  'NetworkSelectorDatasetInfo:resnet9:conv_bn': 'conv_pool_bn_act',\n  'OptimizerSelector:rmsprop:alpha': 0.7277814280937108,\n  'OptimizerSelector:rmsprop:learning_rate': 0.004443696398389036,\n  'OptimizerSelector:rmsprop:momentum': 0.42523072016205193,\n  'OptimizerSelector:rmsprop:weight_decay': 0.0914885764715718,\n  'SimpleLearningrateSchedulerSelector:cyclic:cycle_length': 4,\n  'SimpleLearningrateSchedulerSelector:cyclic:max_factor': 1.2273085661261378,\n  'SimpleLearningrateSchedulerSelector:cyclic:min_factor': 0.03860898538456489},\n 'budget': 50,\n 'info': {}}"
     },
     "metadata": {},
     "execution_count": 11
    }
   ],
   "source": [
    "autonet.refit(X_train=np.array([path_to_cifar_csv]),\n",
    "                                Y_train=np.array([0]),\n",
    "                                X_valid=None,\n",
    "                                Y_valid=None,\n",
    "                                hyperparameter_config=hyperparameter_config,\n",
    "                                autonet_config=config,\n",
    "                                budget=50)"
   ]
  },
  {
   "cell_type": "code",
   "execution_count": 5,
   "metadata": {},
   "outputs": [
    {
     "data": {
      "text/plain": [
       "<autoPyTorch.pipeline.base.pipeline.Pipeline at 0x13c7f4f10>"
      ]
     },
     "execution_count": 5,
     "metadata": {},
     "output_type": "execute_result"
    }
   ],
   "source": []
  },
  {
   "cell_type": "code",
   "execution_count": null,
   "metadata": {},
   "outputs": [],
   "source": []
  }
 ],
 "metadata": {
  "kernelspec": {
   "display_name": "Python 3.7.7 64-bit ('auto-env': conda)",
   "language": "python",
   "name": "python37764bitautoenvconda1a16dc3f7e554b358d6c1a9c3e6ad9f9"
  },
  "language_info": {
   "codemirror_mode": {
    "name": "ipython",
    "version": 3
   },
   "file_extension": ".py",
   "mimetype": "text/x-python",
   "name": "python",
   "nbconvert_exporter": "python",
   "pygments_lexer": "ipython3",
   "version": "3.7.7-final"
  }
 },
 "nbformat": 4,
 "nbformat_minor": 2
}