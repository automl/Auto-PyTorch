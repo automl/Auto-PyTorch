{
 "cells": [
  {
   "cell_type": "code",
   "execution_count": 16,
   "metadata": {},
   "outputs": [],
   "source": [
    "import os, sys\n",
    "# sys.path.append(os.path.abspath(os.path.join(__file__, \"..\", \"..\", \"..\")))\n",
    "from autoPyTorch import AutoNetImageClassification\n",
    "from autoPyTorch.data_management.data_manager import DataManager\n",
    "from autoPyTorch.pipeline.nodes.image.network_selector_datasetinfo import NetworkSelectorDatasetInfo\n",
    "from autoPyTorch.components.networks.image.resnet import ResNet\n",
    "import numpy as np\n",
    "import datetime\n"
   ]
  },
  {
   "cell_type": "code",
   "execution_count": 17,
   "metadata": {},
   "outputs": [],
   "source": [
    "path_to_cifar_csv = os.path.abspath(\"datasets/CIFAR10.csv\")"
   ]
  },
  {
   "cell_type": "code",
   "execution_count": 18,
   "metadata": {
    "tags": []
   },
   "outputs": [
    {
     "output_type": "stream",
     "name": "stdout",
     "text": "0 50000\nFiles already downloaded and verified\nFiles already downloaded and verified\nSequential(\n  (0): Sequential(\n    (prep_layer): conv_bn_self(\n      (conv): Conv2d(3, 64, kernel_size=(3, 3), stride=(1, 1), padding=(1, 1), bias=False)\n      (bn): BatchNorm2d(64, eps=1e-05, momentum=0.1, affine=True, track_running_stats=True)\n      (act_func): ReLU()\n    )\n    (Layer1): Sequential(\n      (conv_bn): conv_pool_bn_act(\n        (conv): Conv2d(64, 128, kernel_size=(3, 3), stride=(1, 1), padding=(1, 1), bias=False)\n        (pool): MaxPool2d(kernel_size=2, stride=2, padding=0, dilation=1, ceil_mode=False)\n        (bn): BatchNorm2d(128, eps=1e-05, momentum=0.1, affine=True, track_running_stats=True)\n        (act_func): ReLU()\n      )\n      (residual): Residual(\n        (conv): conv_bn_self(\n          (conv): Conv2d(128, 128, kernel_size=(3, 3), stride=(1, 1), padding=(1, 1), bias=False)\n          (bn): BatchNorm2d(128, eps=1e-05, momentum=0.1, affine=True, track_running_stats=True)\n          (act_func): ReLU()\n        )\n        (conv2): conv_bn_self(\n          (conv): Conv2d(128, 128, kernel_size=(3, 3), stride=(1, 1), padding=(1, 1), bias=False)\n          (bn): BatchNorm2d(128, eps=1e-05, momentum=0.1, affine=True, track_running_stats=True)\n          (act_func): ReLU()\n        )\n      )\n    )\n    (Layer2): Sequential(\n      (conv_bn): conv_pool_bn_act(\n        (conv): Conv2d(128, 256, kernel_size=(3, 3), stride=(1, 1), padding=(1, 1), bias=False)\n        (pool): MaxPool2d(kernel_size=2, stride=2, padding=0, dilation=1, ceil_mode=False)\n        (bn): BatchNorm2d(256, eps=1e-05, momentum=0.1, affine=True, track_running_stats=True)\n        (act_func): ReLU()\n      )\n    )\n    (Layer3): Sequential(\n      (conv_bn): conv_pool_bn_act(\n        (conv): Conv2d(256, 512, kernel_size=(3, 3), stride=(1, 1), padding=(1, 1), bias=False)\n        (pool): MaxPool2d(kernel_size=2, stride=2, padding=0, dilation=1, ceil_mode=False)\n        (bn): BatchNorm2d(512, eps=1e-05, momentum=0.1, affine=True, track_running_stats=True)\n        (act_func): ReLU()\n      )\n      (residual): Residual(\n        (conv): conv_bn_self(\n          (conv): Conv2d(512, 512, kernel_size=(3, 3), stride=(1, 1), padding=(1, 1), bias=False)\n          (bn): BatchNorm2d(512, eps=1e-05, momentum=0.1, affine=True, track_running_stats=True)\n          (act_func): ReLU()\n        )\n        (conv2): conv_bn_self(\n          (conv): Conv2d(512, 512, kernel_size=(3, 3), stride=(1, 1), padding=(1, 1), bias=False)\n          (bn): BatchNorm2d(512, eps=1e-05, momentum=0.1, affine=True, track_running_stats=True)\n          (act_func): ReLU()\n        )\n      )\n    )\n    (pool): MaxPool2d(kernel_size=4, stride=4, padding=0, dilation=1, ceil_mode=False)\n  )\n)\n1855.867722 resnet9 True\n{'loss': -52.90865384615385, 'optimized_hyperparameter_config': {'NetworkSelectorDatasetInfo:network': 'resnet9', 'OptimizerSelector:optimizer': 'sgd', 'SimpleLearningrateSchedulerSelector:lr_scheduler': 'cosine_annealing', 'CreateImageDataLoader:batch_size': 120, 'ImageAugmentation:augment': False, 'ImageAugmentation:cutout': False, 'LossModuleSelectorIndices:loss_module': 'cross_entropy', 'SimpleTrainNode:batch_loss_computation_technique': 'standard', 'NetworkSelectorDatasetInfo:resnet9:conv_bn': 'conv_pool_bn_act', 'OptimizerSelector:sgd:learning_rate': 0.065, 'OptimizerSelector:sgd:momentum': 0.65, 'OptimizerSelector:sgd:weight_decay': 0.006, 'SimpleLearningrateSchedulerSelector:cosine_annealing:T_max': 228, 'SimpleLearningrateSchedulerSelector:cosine_annealing:eta_min': 2.9835939887187464e-08}, 'budget': 1, 'info': {'train_loss': 1.306045557730473, 'train_accuracy': 52.90865384615385, 'epochs': 1, 'model_parameters': 6573120, 'learning_rate': 0.0649969148495606, 'train_datapoints': 50000}}\n0 50000\nFiles already downloaded and verified\nFiles already downloaded and verified\nSequential(\n  (0): Sequential(\n    (prep_layer): conv_bn_self(\n      (conv): Conv2d(3, 64, kernel_size=(3, 3), stride=(1, 1), padding=(1, 1), bias=False)\n      (bn): BatchNorm2d(64, eps=1e-05, momentum=0.1, affine=True, track_running_stats=True)\n      (act_func): ReLU()\n    )\n    (Layer1): Sequential(\n      (conv_bn): conv_pool_bn_act(\n        (conv): Conv2d(64, 128, kernel_size=(3, 3), stride=(1, 1), padding=(1, 1), bias=False)\n        (pool): MaxPool2d(kernel_size=2, stride=2, padding=0, dilation=1, ceil_mode=False)\n        (bn): BatchNorm2d(128, eps=1e-05, momentum=0.1, affine=True, track_running_stats=True)\n        (act_func): ReLU()\n      )\n      (residual): Residual(\n        (conv): conv_bn_self(\n          (conv): Conv2d(128, 128, kernel_size=(3, 3), stride=(1, 1), padding=(1, 1), bias=False)\n          (bn): BatchNorm2d(128, eps=1e-05, momentum=0.1, affine=True, track_running_stats=True)\n          (act_func): ReLU()\n        )\n        (conv2): conv_bn_self(\n          (conv): Conv2d(128, 128, kernel_size=(3, 3), stride=(1, 1), padding=(1, 1), bias=False)\n          (bn): BatchNorm2d(128, eps=1e-05, momentum=0.1, affine=True, track_running_stats=True)\n          (act_func): ReLU()\n        )\n      )\n    )\n    (Layer2): Sequential(\n      (conv_bn): conv_pool_bn_act(\n        (conv): Conv2d(128, 256, kernel_size=(3, 3), stride=(1, 1), padding=(1, 1), bias=False)\n        (pool): MaxPool2d(kernel_size=2, stride=2, padding=0, dilation=1, ceil_mode=False)\n        (bn): BatchNorm2d(256, eps=1e-05, momentum=0.1, affine=True, track_running_stats=True)\n        (act_func): ReLU()\n      )\n    )\n    (Layer3): Sequential(\n      (conv_bn): conv_pool_bn_act(\n        (conv): Conv2d(256, 512, kernel_size=(3, 3), stride=(1, 1), padding=(1, 1), bias=False)\n        (pool): MaxPool2d(kernel_size=2, stride=2, padding=0, dilation=1, ceil_mode=False)\n        (bn): BatchNorm2d(512, eps=1e-05, momentum=0.1, affine=True, track_running_stats=True)\n        (act_func): ReLU()\n      )\n      (residual): Residual(\n        (conv): conv_bn_self(\n          (conv): Conv2d(512, 512, kernel_size=(3, 3), stride=(1, 1), padding=(1, 1), bias=False)\n          (bn): BatchNorm2d(512, eps=1e-05, momentum=0.1, affine=True, track_running_stats=True)\n          (act_func): ReLU()\n        )\n        (conv2): conv_bn_self(\n          (conv): Conv2d(512, 512, kernel_size=(3, 3), stride=(1, 1), padding=(1, 1), bias=False)\n          (bn): BatchNorm2d(512, eps=1e-05, momentum=0.1, affine=True, track_running_stats=True)\n          (act_func): ReLU()\n        )\n      )\n    )\n    (pool): MaxPool2d(kernel_size=4, stride=4, padding=0, dilation=1, ceil_mode=False)\n  )\n)\n1869.681333 resnet9 False\n{'loss': -52.90865384615385, 'optimized_hyperparameter_config': {'NetworkSelectorDatasetInfo:network': 'resnet9', 'OptimizerSelector:optimizer': 'sgd', 'SimpleLearningrateSchedulerSelector:lr_scheduler': 'cosine_annealing', 'CreateImageDataLoader:batch_size': 120, 'ImageAugmentation:augment': False, 'ImageAugmentation:cutout': False, 'LossModuleSelectorIndices:loss_module': 'cross_entropy', 'SimpleTrainNode:batch_loss_computation_technique': 'standard', 'NetworkSelectorDatasetInfo:resnet9:conv_bn': 'conv_pool_bn_act', 'OptimizerSelector:sgd:learning_rate': 0.065, 'OptimizerSelector:sgd:momentum': 0.65, 'OptimizerSelector:sgd:weight_decay': 0.006, 'SimpleLearningrateSchedulerSelector:cosine_annealing:T_max': 228, 'SimpleLearningrateSchedulerSelector:cosine_annealing:eta_min': 2.9835939887187464e-08}, 'budget': 1, 'info': {'train_loss': 1.306045557730473, 'train_accuracy': 52.90865384615385, 'epochs': 1, 'model_parameters': 6573120, 'learning_rate': 0.0649969148495606, 'train_datapoints': 50000}}\n0 50000\nFiles already downloaded and verified\nFiles already downloaded and verified\nSequential(\n  (0): Sequential(\n    (Conv_0): Conv2d(3, 13, kernel_size=(3, 3), stride=(1, 1), padding=(1, 1), bias=False)\n    (BN_0): BatchNorm2d(13, eps=1e-05, momentum=0.1, affine=True, track_running_stats=True)\n    (Group_1): ResidualGroup(\n      (group): Sequential(\n        (Block_1): BasicBlock(\n          (branches): ModuleList(\n            (0): ResidualBranch(\n              (residual_branch): Sequential(\n                (Branch_1:ReLU_1): ReLU()\n                (Branch_1:Conv_1): Conv2d(13, 11, kernel_size=(3, 3), stride=(1, 1), padding=(1, 1), bias=False)\n                (Branch_1:BN_1): BatchNorm2d(11, eps=1e-05, momentum=0.1, affine=True, track_running_stats=True)\n                (Branch_1:ReLU_2): ReLU()\n                (Branch_1:Conv_2): Conv2d(11, 11, kernel_size=(3, 3), stride=(1, 1), padding=(1, 1), bias=False)\n                (Branch_1:BN_2): BatchNorm2d(11, eps=1e-05, momentum=0.1, affine=True, track_running_stats=True)\n              )\n            )\n          )\n          (skip): Sequential(\n            (Skip_connection): SkipConnection(\n              (s1): Sequential(\n                (Skip_1_AvgPool): AvgPool2d(kernel_size=1, stride=1, padding=0)\n                (Skip_1_Conv): Conv2d(13, 5, kernel_size=(1, 1), stride=(1, 1), bias=False)\n              )\n              (s2): Sequential(\n                (Skip_2_AvgPool): AvgPool2d(kernel_size=1, stride=1, padding=0)\n                (Skip_2_Conv): Conv2d(13, 6, kernel_size=(1, 1), stride=(1, 1), bias=False)\n              )\n              (batch_norm): BatchNorm2d(11, eps=1e-05, momentum=0.1, affine=True, track_running_stats=True)\n            )\n          )\n        )\n        (Block_2): BasicBlock(\n          (branches): ModuleList(\n            (0): ResidualBranch(\n              (residual_branch): Sequential(\n                (Branch_1:ReLU_1): ReLU()\n                (Branch_1:Conv_1): Conv2d(11, 11, kernel_size=(3, 3), stride=(1, 1), padding=(1, 1), bias=False)\n                (Branch_1:BN_1): BatchNorm2d(11, eps=1e-05, momentum=0.1, affine=True, track_running_stats=True)\n                (Branch_1:ReLU_2): ReLU()\n                (Branch_1:Conv_2): Conv2d(11, 11, kernel_size=(3, 3), stride=(1, 1), padding=(1, 1), bias=False)\n                (Branch_1:BN_2): BatchNorm2d(11, eps=1e-05, momentum=0.1, affine=True, track_running_stats=True)\n              )\n            )\n          )\n          (skip): Sequential()\n        )\n      )\n    )\n    (ReLU_0): ReLU(inplace=True)\n    (AveragePool): AdaptiveAvgPool2d(output_size=1)\n  )\n)\n218.495505 resnet True\n{'loss': -22.690304487179485, 'optimized_hyperparameter_config': {'NetworkSelectorDatasetInfo:network': 'resnet', 'OptimizerSelector:optimizer': 'sgd', 'SimpleLearningrateSchedulerSelector:lr_scheduler': 'cosine_annealing', 'CreateImageDataLoader:batch_size': 120, 'ImageAugmentation:augment': False, 'ImageAugmentation:cutout': False, 'LossModuleSelectorIndices:loss_module': 'cross_entropy', 'SimpleTrainNode:batch_loss_computation_technique': 'standard', 'NetworkSelectorDatasetInfo:resnet:death_rate': 0.5410896593583736, 'NetworkSelectorDatasetInfo:resnet:initial_filters': 13, 'NetworkSelectorDatasetInfo:resnet:nr_main_blocks': 1, 'NetworkSelectorDatasetInfo:resnet:nr_residual_blocks_1': 2, 'NetworkSelectorDatasetInfo:resnet:res_branches_1': 1, 'NetworkSelectorDatasetInfo:resnet:widen_factor_1': 0.8466406389676037, 'OptimizerSelector:sgd:learning_rate': 0.065, 'OptimizerSelector:sgd:momentum': 0.65, 'OptimizerSelector:sgd:weight_decay': 0.006, 'SimpleLearningrateSchedulerSelector:cosine_annealing:T_max': 34, 'SimpleLearningrateSchedulerSelector:cosine_annealing:eta_min': 7.135867916289695e-08}, 'budget': 1, 'info': {'train_loss': 2.0631237669059863, 'train_accuracy': 22.690304487179485, 'epochs': 1, 'model_parameters': 5304, 'learning_rate': 0.0648613608817904, 'train_datapoints': 50000}}\n0 50000\nFiles already downloaded and verified\nFiles already downloaded and verified\nSequential(\n  (0): Sequential(\n    (Conv_0): Conv2d(3, 13, kernel_size=(3, 3), stride=(1, 1), padding=(1, 1), bias=False)\n    (BN_0): BatchNorm2d(13, eps=1e-05, momentum=0.1, affine=True, track_running_stats=True)\n    (Group_1): ResidualGroup(\n      (group): Sequential(\n        (Block_1): BasicBlock(\n          (branches): ModuleList(\n            (0): ResidualBranch(\n              (residual_branch): Sequential(\n                (Branch_1:ReLU_1): ReLU()\n                (Branch_1:Conv_1): Conv2d(13, 11, kernel_size=(3, 3), stride=(1, 1), padding=(1, 1), bias=False)\n                (Branch_1:BN_1): BatchNorm2d(11, eps=1e-05, momentum=0.1, affine=True, track_running_stats=True)\n                (Branch_1:ReLU_2): ReLU()\n                (Branch_1:Conv_2): Conv2d(11, 11, kernel_size=(3, 3), stride=(1, 1), padding=(1, 1), bias=False)\n                (Branch_1:BN_2): BatchNorm2d(11, eps=1e-05, momentum=0.1, affine=True, track_running_stats=True)\n              )\n            )\n          )\n          (skip): Sequential(\n            (Skip_connection): SkipConnection(\n              (s1): Sequential(\n                (Skip_1_AvgPool): AvgPool2d(kernel_size=1, stride=1, padding=0)\n                (Skip_1_Conv): Conv2d(13, 5, kernel_size=(1, 1), stride=(1, 1), bias=False)\n              )\n              (s2): Sequential(\n                (Skip_2_AvgPool): AvgPool2d(kernel_size=1, stride=1, padding=0)\n                (Skip_2_Conv): Conv2d(13, 6, kernel_size=(1, 1), stride=(1, 1), bias=False)\n              )\n              (batch_norm): BatchNorm2d(11, eps=1e-05, momentum=0.1, affine=True, track_running_stats=True)\n            )\n          )\n        )\n        (Block_2): BasicBlock(\n          (branches): ModuleList(\n            (0): ResidualBranch(\n              (residual_branch): Sequential(\n                (Branch_1:ReLU_1): ReLU()\n                (Branch_1:Conv_1): Conv2d(11, 11, kernel_size=(3, 3), stride=(1, 1), padding=(1, 1), bias=False)\n                (Branch_1:BN_1): BatchNorm2d(11, eps=1e-05, momentum=0.1, affine=True, track_running_stats=True)\n                (Branch_1:ReLU_2): ReLU()\n                (Branch_1:Conv_2): Conv2d(11, 11, kernel_size=(3, 3), stride=(1, 1), padding=(1, 1), bias=False)\n                (Branch_1:BN_2): BatchNorm2d(11, eps=1e-05, momentum=0.1, affine=True, track_running_stats=True)\n              )\n            )\n          )\n          (skip): Sequential()\n        )\n      )\n    )\n    (ReLU_0): ReLU(inplace=True)\n    (AveragePool): AdaptiveAvgPool2d(output_size=1)\n  )\n)\n220.822438 resnet False\n{'loss': -22.690304487179485, 'optimized_hyperparameter_config': {'NetworkSelectorDatasetInfo:network': 'resnet', 'OptimizerSelector:optimizer': 'sgd', 'SimpleLearningrateSchedulerSelector:lr_scheduler': 'cosine_annealing', 'CreateImageDataLoader:batch_size': 120, 'ImageAugmentation:augment': False, 'ImageAugmentation:cutout': False, 'LossModuleSelectorIndices:loss_module': 'cross_entropy', 'SimpleTrainNode:batch_loss_computation_technique': 'standard', 'NetworkSelectorDatasetInfo:resnet:death_rate': 0.5410896593583736, 'NetworkSelectorDatasetInfo:resnet:initial_filters': 13, 'NetworkSelectorDatasetInfo:resnet:nr_main_blocks': 1, 'NetworkSelectorDatasetInfo:resnet:nr_residual_blocks_1': 2, 'NetworkSelectorDatasetInfo:resnet:res_branches_1': 1, 'NetworkSelectorDatasetInfo:resnet:widen_factor_1': 0.8466406389676037, 'OptimizerSelector:sgd:learning_rate': 0.065, 'OptimizerSelector:sgd:momentum': 0.65, 'OptimizerSelector:sgd:weight_decay': 0.006, 'SimpleLearningrateSchedulerSelector:cosine_annealing:T_max': 34, 'SimpleLearningrateSchedulerSelector:cosine_annealing:eta_min': 7.135867916289695e-08}, 'budget': 1, 'info': {'train_loss': 2.0631237669059863, 'train_accuracy': 22.690304487179485, 'epochs': 1, 'model_parameters': 5304, 'learning_rate': 0.0648613608817904, 'train_datapoints': 50000}}\n"
    }
   ],
   "source": [
    "networks = ['resnet9', 'resnet']\n",
    "prefetches = [True, False]\n",
    "for network in networks:\n",
    "    for prefetch in prefetches:\n",
    "        c = datetime.datetime.now()\n",
    "        autonet = AutoNetImageClassification(config_preset=\"full_cs\", \n",
    "                                            networks=[network], \n",
    "                                            lr_scheduler=['cosine_annealing'], \n",
    "                                            prefetch=prefetch, \n",
    "                                            optimizer = ['sgd'],\n",
    "                                            budget_type='epochs', \n",
    "                                            result_logger_dir=\"./results\", \n",
    "                                            working_dir='./results/')\n",
    "        config = autonet.get_current_autonet_config()\n",
    "        if network == 'resnet9':\n",
    "            hyperparameter_config = {\n",
    "                                        'NetworkSelectorDatasetInfo:network': 'resnet9',\n",
    "                                        'OptimizerSelector:optimizer': 'sgd',\n",
    "                                        'SimpleLearningrateSchedulerSelector:lr_scheduler': 'cosine_annealing',\n",
    "                                        'CreateImageDataLoader:batch_size': 120,\n",
    "                                        'ImageAugmentation:augment': False,\n",
    "                                        'ImageAugmentation:cutout': False,\n",
    "                                        'LossModuleSelectorIndices:loss_module': 'cross_entropy',\n",
    "                                        'SimpleTrainNode:batch_loss_computation_technique': 'standard',\n",
    "                                        'NetworkSelectorDatasetInfo:resnet9:conv_bn': 'conv_pool_bn_act',\n",
    "                                        'OptimizerSelector:sgd:learning_rate': 0.065,\n",
    "                                        'OptimizerSelector:sgd:momentum': 0.65,\n",
    "                                        'OptimizerSelector:sgd:weight_decay': 0.006,\n",
    "                                        'SimpleLearningrateSchedulerSelector:cosine_annealing:T_max': 228,\n",
    "                                        'SimpleLearningrateSchedulerSelector:cosine_annealing:eta_min': 2.9835939887187464e-08\n",
    "                                    }\n",
    "\n",
    "        else:\n",
    "            hyperparameter_config = {\n",
    "                                        \"NetworkSelectorDatasetInfo:network\":\"resnet\",\n",
    "                                        \"SimpleLearningrateSchedulerSelector:lr_scheduler\":\"cosine_annealing\",\n",
    "                                        'CreateImageDataLoader:batch_size': 120,\n",
    "                                        \"ImageAugmentation:augment\":False,\n",
    "                                        \"ImageAugmentation:cutout\":False,\n",
    "                                        \"LossModuleSelectorIndices:loss_module\":\"cross_entropy\",\n",
    "                                        'OptimizerSelector:optimizer': 'sgd',\n",
    "                                        \"SimpleTrainNode:batch_loss_computation_technique\":\"standard\",\n",
    "                                        \"NetworkSelectorDatasetInfo:resnet:death_rate\":0.5410896593583736,\n",
    "                                        \"NetworkSelectorDatasetInfo:resnet:initial_filters\":13,\n",
    "                                        \"NetworkSelectorDatasetInfo:resnet:nr_main_blocks\":1,\n",
    "                                        \"NetworkSelectorDatasetInfo:resnet:nr_residual_blocks_1\":2,\n",
    "                                        \"NetworkSelectorDatasetInfo:resnet:res_branches_1\":1,\n",
    "                                        \"NetworkSelectorDatasetInfo:resnet:widen_factor_1\":0.8466406389676037,\n",
    "                                        'OptimizerSelector:sgd:learning_rate': 0.065,\n",
    "                                        'OptimizerSelector:sgd:momentum': 0.65,\n",
    "                                        'OptimizerSelector:sgd:weight_decay': 0.006,\n",
    "                                        \"SimpleLearningrateSchedulerSelector:cosine_annealing:T_max\":34,\n",
    "                                        \"SimpleLearningrateSchedulerSelector:cosine_annealing:eta_min\":7.135867916289695e-08,\n",
    "                                        }\n",
    "\n",
    "        # print(autonet.get_hyperparameter_search_space().sample_configuration().get_dictionary())\n",
    "        result = autonet.refit(X_train=np.array([path_to_cifar_csv]),\n",
    "                                        Y_train=np.array([0]),\n",
    "                                        X_valid=None,\n",
    "                                        Y_valid=None,\n",
    "                                        hyperparameter_config=hyperparameter_config,\n",
    "                                        autonet_config=config,\n",
    "                                        budget=1)\n",
    "        print(autonet.get_pytorch_model())\n",
    "        a = (datetime.datetime.now() -c).total_seconds()\n",
    "        print(a, network, prefetch)\n",
    "        print(result)"
   ]
  },
  {
   "cell_type": "code",
   "execution_count": 44,
   "metadata": {},
   "outputs": [
    {
     "output_type": "execute_result",
     "data": {
      "text/plain": "autoPyTorch.components.networks.image.resnet.ResNet"
     },
     "metadata": {},
     "execution_count": 44
    }
   ],
   "source": [
    "make_dot(model(np.random.rand((32,32,3))), params=dict(model.named_parameters()))"
   ]
  },
  {
   "cell_type": "code",
   "execution_count": null,
   "metadata": {},
   "outputs": [],
   "source": []
  }
 ],
 "metadata": {
  "kernelspec": {
   "display_name": "Python 3.7.7 64-bit ('auto-env': conda)",
   "language": "python",
   "name": "python37764bitautoenvconda1a16dc3f7e554b358d6c1a9c3e6ad9f9"
  },
  "language_info": {
   "codemirror_mode": {
    "name": "ipython",
    "version": 3
   },
   "file_extension": ".py",
   "mimetype": "text/x-python",
   "name": "python",
   "nbconvert_exporter": "python",
   "pygments_lexer": "ipython3",
   "version": "3.7.7-final"
  }
 },
 "nbformat": 4,
 "nbformat_minor": 2
}